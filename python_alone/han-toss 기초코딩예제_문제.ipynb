{
 "cells": [
  {
   "cell_type": "markdown",
   "metadata": {
    "id": "TZhnX7vf1WsA"
   },
   "source": [
    "## 기초문제 1.\n",
    "- 아래 코드를 정수형으로 변형하세요\n",
    "- 원하는 답 : 3"
   ]
  },
  {
   "cell_type": "code",
   "execution_count": 38,
   "metadata": {
    "colab": {
     "base_uri": "https://localhost:8080/"
    },
    "executionInfo": {
     "elapsed": 5,
     "status": "ok",
     "timestamp": 1719477469205,
     "user": {
      "displayName": "Ji-hoon Jung",
      "userId": "03169308685755834042"
     },
     "user_tz": -540
    },
    "id": "mQPK1XtH1Qyo",
    "outputId": "e5d7455b-1bb7-41cf-fd6a-9f2b21ab42bc"
   },
   "outputs": [
    {
     "name": "stdout",
     "output_type": "stream",
     "text": [
      "3\n"
     ]
    }
   ],
   "source": [
    "a = \"3.14\"\n",
    "# 코드\n",
    "print(int(float(a)))"
   ]
  },
  {
   "cell_type": "markdown",
   "metadata": {
    "id": "mzAQTYk-1oLM"
   },
   "source": [
    "## 기초문제 2.\n",
    "- 다음 문자열에서 \"a\"의 값이 몇 개인지 확인하세요."
   ]
  },
  {
   "cell_type": "code",
   "execution_count": 40,
   "metadata": {
    "colab": {
     "base_uri": "https://localhost:8080/"
    },
    "executionInfo": {
     "elapsed": 7,
     "status": "ok",
     "timestamp": 1719477469205,
     "user": {
      "displayName": "Ji-hoon Jung",
      "userId": "03169308685755834042"
     },
     "user_tz": -540
    },
    "id": "4PY51V5f14ac",
    "outputId": "e87d72c1-2180-4dca-ac76-06190685d6d3"
   },
   "outputs": [
    {
     "data": {
      "text/plain": [
       "10"
      ]
     },
     "execution_count": 40,
     "metadata": {},
     "output_type": "execute_result"
    }
   ],
   "source": [
    "a = \"aaaaabbbbaabababa\"\n",
    "# 코드\n",
    "a.count(\"a\")"
   ]
  },
  {
   "cell_type": "markdown",
   "metadata": {
    "id": "LvJZ1i9v2Cr7"
   },
   "source": [
    "## 기초문제 3.\n",
    "- 다음과 같은 딕셔너리에서 \"python\"을 추출하세요 (Python 아님)"
   ]
  },
  {
   "cell_type": "code",
   "execution_count": 7,
   "metadata": {
    "colab": {
     "base_uri": "https://localhost:8080/"
    },
    "executionInfo": {
     "elapsed": 477,
     "status": "ok",
     "timestamp": 1719477613344,
     "user": {
      "displayName": "Ji-hoon Jung",
      "userId": "03169308685755834042"
     },
     "user_tz": -540
    },
    "id": "O3q3WeYz2a5M",
    "outputId": "5dfb5531-4dd5-416c-83aa-4c02e21e50fe"
   },
   "outputs": [
    {
     "name": "stdout",
     "output_type": "stream",
     "text": [
      "{'languages': {'programming': ['Python is goood python', 'Java', 'C++'], 'spoken': {'English': {'native': True, 'regions': ['US', 'UK', 'Canada']}, 'Spanish': {'native': False, 'regions': ['Spain', 'Mexico']}}}, 'tools': {'development': ['IDE', 'Text Editor'], 'testing': ['pytest', 'unittest']}}\n"
     ]
    }
   ],
   "source": [
    "complex_dict = {\n",
    "    \"languages\": {\n",
    "        \"programming\": [\"Python is goood python\", \"Java\", \"C++\"],\n",
    "        \"spoken\": {\n",
    "            \"English\": {\n",
    "                \"native\": True,\n",
    "                \"regions\": [\"US\", \"UK\", \"Canada\"]\n",
    "            },\n",
    "            \"Spanish\": {\n",
    "                \"native\": False,\n",
    "                \"regions\": [\"Spain\", \"Mexico\"]\n",
    "            }\n",
    "        }\n",
    "    },\n",
    "    \"tools\": {\n",
    "        \"development\": [\"IDE\", \"Text Editor\"],\n",
    "        \"testing\": [\"pytest\", \"unittest\"]\n",
    "    }\n",
    "}\n",
    "\n",
    "print(complex_dict)"
   ]
  },
  {
   "cell_type": "code",
   "execution_count": 8,
   "metadata": {
    "colab": {
     "base_uri": "https://localhost:8080/",
     "height": 35
    },
    "executionInfo": {
     "elapsed": 437,
     "status": "ok",
     "timestamp": 1719477713193,
     "user": {
      "displayName": "Ji-hoon Jung",
      "userId": "03169308685755834042"
     },
     "user_tz": -540
    },
    "id": "ecSrJKj_2kqM",
    "outputId": "c6916ce4-151f-48fb-ecdb-56aa85123042"
   },
   "outputs": [],
   "source": [
    "# 코드"
   ]
  },
  {
   "cell_type": "code",
   "execution_count": 22,
   "metadata": {},
   "outputs": [
    {
     "data": {
      "text/plain": [
       "'python'"
      ]
     },
     "execution_count": 22,
     "metadata": {},
     "output_type": "execute_result"
    }
   ],
   "source": [
    "complex_dict[\"languages\"][\"programming\"][0][16:]"
   ]
  },
  {
   "cell_type": "markdown",
   "metadata": {
    "id": "nVeHWEEk3AOT"
   },
   "source": [
    "## 기초문제 4.\n",
    "- 주어진 데이터 자료형이 Iterable인지 아닌지 확인하는 코드를 if-else문으로 작성하세요.\n",
    "  + 만약, iterable이면 \"반복문 코드 작성\"\n",
    "  + 만약, iterable이 아니면 \"다른 데이터 자료형 찾기\" 출력"
   ]
  },
  {
   "cell_type": "code",
   "execution_count": 43,
   "metadata": {
    "colab": {
     "base_uri": "https://localhost:8080/"
    },
    "executionInfo": {
     "elapsed": 10,
     "status": "ok",
     "timestamp": 1719499184871,
     "user": {
      "displayName": "Ji-hoon Jung",
      "userId": "03169308685755834042"
     },
     "user_tz": -540
    },
    "id": "wLpk9G_jBO2K",
    "outputId": "22c1c4be-713e-46b5-afc7-a9924b984dfe"
   },
   "outputs": [
    {
     "name": "stdout",
     "output_type": "stream",
     "text": [
      "<class 'set'>\n",
      "반복문 코드 작성\n"
     ]
    }
   ],
   "source": [
    "my_set = {1, 2, 3, 4, 5}\n",
    "print(type(my_set))\n",
    "\n",
    "# 코드\n",
    "from collections.abc import Iterable\n",
    "\n",
    "if isinstance(my_set, Iterable): # 이부분을 True로 만들어야 함 isinstance\n",
    "  print(\"반복문 코드 작성\")\n",
    "else:\n",
    "  print(\"다른 데이터 자료형 찾기\")"
   ]
  },
  {
   "cell_type": "markdown",
   "metadata": {
    "id": "UJlQnwNWCn3b"
   },
   "source": [
    "## 기초문제 5.\n",
    "- 주어진 set 자료형을 활용하여 \"a\"가 들어간 단어만 추출하여 collected_words 리스트로 결과 반환\n",
    "- 그 외의 단어는 others 리스트에 반환"
   ]
  },
  {
   "cell_type": "code",
   "execution_count": 49,
   "metadata": {
    "colab": {
     "base_uri": "https://localhost:8080/"
    },
    "executionInfo": {
     "elapsed": 7,
     "status": "ok",
     "timestamp": 1719498916778,
     "user": {
      "displayName": "Ji-hoon Jung",
      "userId": "03169308685755834042"
     },
     "user_tz": -540
    },
    "id": "zT2ll_IBCme0",
    "outputId": "568c93c5-9c1a-4aeb-efbc-9da575d5aa00"
   },
   "outputs": [
    {
     "name": "stdout",
     "output_type": "stream",
     "text": [
      "['grape', 'banana', 'date', 'apple'] ['elderberry', 'fig', 'cherry']\n"
     ]
    }
   ],
   "source": [
    "words = {\"apple\", \"banana\", \"cherry\", \"date\", \"elderberry\", \"fig\", \"grape\"}\n",
    "\n",
    "collected_words = []\n",
    "others = []\n",
    "\n",
    "# 코드\n",
    "for word in words:\n",
    "    if \"a\" in word:\n",
    "        collected_words.append(word)\n",
    "    else :\n",
    "        others.append(word)\n",
    "\n",
    "print(collected_words, others)"
   ]
  },
  {
   "cell_type": "markdown",
   "metadata": {
    "id": "-CVEW9DIHcvh"
   },
   "source": [
    "## 기초문제 6.\n",
    "- 위 코드를 List Comprehension으로 구현하세요.\n",
    "- 결과는 동일해야 합니다."
   ]
  },
  {
   "cell_type": "code",
   "execution_count": 51,
   "metadata": {
    "colab": {
     "base_uri": "https://localhost:8080/"
    },
    "executionInfo": {
     "elapsed": 309,
     "status": "ok",
     "timestamp": 1719499021312,
     "user": {
      "displayName": "Ji-hoon Jung",
      "userId": "03169308685755834042"
     },
     "user_tz": -540
    },
    "id": "joLsI3RRHY63",
    "outputId": "bda8a8c0-9278-4e17-fc4f-806dea6c2ab9"
   },
   "outputs": [
    {
     "ename": "SyntaxError",
     "evalue": "invalid syntax (66122033.py, line 4)",
     "output_type": "error",
     "traceback": [
      "\u001b[1;36m  Cell \u001b[1;32mIn[51], line 4\u001b[1;36m\u001b[0m\n\u001b[1;33m    is(words, list)\u001b[0m\n\u001b[1;37m    ^\u001b[0m\n\u001b[1;31mSyntaxError\u001b[0m\u001b[1;31m:\u001b[0m invalid syntax\n"
     ]
    }
   ],
   "source": [
    "words = {\"apple\", \"banana\", \"cherry\", \"date\", \"elderberry\", \"fig\", \"grape\"}\n",
    "\n",
    "# 코드"
   ]
  },
  {
   "cell_type": "markdown",
   "metadata": {
    "id": "aWEZJKIzI7f0"
   },
   "source": [
    "# 기초문제 7.\n",
    "- 주어진 자료형을 기반으로 아래와 같이 완성하세요."
   ]
  },
  {
   "cell_type": "code",
   "execution_count": null,
   "metadata": {
    "id": "8E_J5z2hJdFQ"
   },
   "outputs": [],
   "source": [
    "# 정답\n",
    "# 1 -> a\n",
    "# 2 -> b\n",
    "# 3 -> c\n",
    "# 4 -> d"
   ]
  },
  {
   "cell_type": "code",
   "execution_count": 27,
   "metadata": {
    "id": "X0W2Ui7GJiPK"
   },
   "outputs": [
    {
     "name": "stdout",
     "output_type": "stream",
     "text": [
      "1 -> a\n",
      "2 -> b\n",
      "3 -> c\n",
      "4 -> d\n"
     ]
    }
   ],
   "source": [
    "list1 = [1, 2, 3, 4]\n",
    "list2 = ['a', 'b', 'c', 'd']\n",
    "\n",
    "for n1, n2 in zip (list1, list2): \n",
    "    print(n1, \"->\", n2)"
   ]
  }
 ],
 "metadata": {
  "colab": {
   "authorship_tag": "ABX9TyMmcvnv2Tvzulny6ALZ6Pr7",
   "provenance": []
  },
  "kernelspec": {
   "display_name": "Python 3 (ipykernel)",
   "language": "python",
   "name": "python3"
  },
  "language_info": {
   "codemirror_mode": {
    "name": "ipython",
    "version": 3
   },
   "file_extension": ".py",
   "mimetype": "text/x-python",
   "name": "python",
   "nbconvert_exporter": "python",
   "pygments_lexer": "ipython3",
   "version": "3.11.7"
  }
 },
 "nbformat": 4,
 "nbformat_minor": 4
}

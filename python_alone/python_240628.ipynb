{
 "cells": [
  {
   "cell_type": "markdown",
   "id": "96a647b8-bb9b-49b5-b20b-9c353e677f19",
   "metadata": {},
   "source": [
    "# 반복문"
   ]
  },
  {
   "cell_type": "markdown",
   "id": "e666edc0-e771-44d0-b56e-ca5a6b32d547",
   "metadata": {},
   "source": [
    "## while 반복문\n",
    "- 조건식이 참이면 계속 수행함\n",
    "- 예) 게임 (자동사냥)\n",
    "- 자동사냥 버튼 ==> True"
   ]
  },
  {
   "cell_type": "markdown",
   "id": "38782996-54a0-4466-90d7-7d6cbb46f8ec",
   "metadata": {},
   "source": [
    "### for 반복문처럼 사용"
   ]
  },
  {
   "cell_type": "code",
   "execution_count": 3,
   "id": "5dbc6803-76d5-4cfc-bf7d-969af8db5404",
   "metadata": {},
   "outputs": [
    {
     "name": "stdout",
     "output_type": "stream",
     "text": [
      "0번쨰 반복입니다.\n",
      "1번쨰 반복입니다.\n",
      "2번쨰 반복입니다.\n",
      "3번쨰 반복입니다.\n",
      "4번쨰 반복입니다.\n",
      "5번쨰 반복입니다.\n",
      "6번쨰 반복입니다.\n",
      "7번쨰 반복입니다.\n",
      "8번쨰 반복입니다.\n",
      "9번쨰 반복입니다.\n",
      "10\n"
     ]
    }
   ],
   "source": [
    "i = 0 \n",
    "while i < 10:\n",
    "    print('{}번쨰 반복입니다.'.format(i))\n",
    "    i += 1\n",
    "\n",
    "print(i)"
   ]
  },
  {
   "cell_type": "markdown",
   "id": "e1e3fd43-bc5a-41ac-bf01-96972d6deab5",
   "metadata": {},
   "source": [
    "### 상태를 기반으로 반복"
   ]
  },
  {
   "cell_type": "code",
   "execution_count": 4,
   "id": "ca9c1b22-2297-455d-85f6-40d88ffe945e",
   "metadata": {},
   "outputs": [
    {
     "name": "stdout",
     "output_type": "stream",
     "text": [
      "[1, 1]\n"
     ]
    }
   ],
   "source": [
    "list_test = [1, 2, 1, 2]\n",
    "value = 2\n",
    "\n",
    "while value in list_test:\n",
    "    list_test.remove(value)\n",
    "\n",
    "print(list_test)"
   ]
  },
  {
   "cell_type": "markdown",
   "id": "9baaf8fd-0745-463f-b83e-75503da66e9c",
   "metadata": {},
   "source": [
    "### 시간을 기반으로 반복하기"
   ]
  },
  {
   "cell_type": "code",
   "execution_count": 7,
   "id": "8fc89363-8fc2-4e89-807e-cb25dd9a2905",
   "metadata": {},
   "outputs": [
    {
     "data": {
      "text/plain": [
       "1719537986.6801286"
      ]
     },
     "execution_count": 7,
     "metadata": {},
     "output_type": "execute_result"
    }
   ],
   "source": [
    "import time\n",
    "\n",
    "time.time()"
   ]
  },
  {
   "cell_type": "code",
   "execution_count": 8,
   "id": "865ce899-640c-45f1-b6c0-abbb63c41a3e",
   "metadata": {},
   "outputs": [
    {
     "data": {
      "text/plain": [
       "45839517"
      ]
     },
     "execution_count": 8,
     "metadata": {},
     "output_type": "execute_result"
    }
   ],
   "source": [
    "number = 0\n",
    "\n",
    "#5초동안 반복\n",
    "target_tick = time.time() + 5\n",
    "while time.time() < target_tick:\n",
    "    number +=  1\n",
    "\n",
    "number"
   ]
  },
  {
   "cell_type": "markdown",
   "id": "4bfbd4f2-7098-4467-a7d3-b0044822077b",
   "metadata": {},
   "source": [
    "### break와 comtinue 키워드"
   ]
  },
  {
   "cell_type": "code",
   "execution_count": 13,
   "id": "89118263-1072-4caf-a339-c42a5c4fe297",
   "metadata": {},
   "outputs": [
    {
     "name": "stdout",
     "output_type": "stream",
     "text": [
      "5\n",
      "6\n",
      "7\n",
      "15\n"
     ]
    }
   ],
   "source": [
    "numbers = [5, 15, 6, 20, 7, 25]\n",
    "\n",
    "numbers = sorted(numbers) # 위 리스트 정렬\n",
    "\n",
    "for number in numbers:\n",
    "    print(number)\n",
    "    if number > 10:\n",
    "        break"
   ]
  },
  {
   "cell_type": "code",
   "execution_count": 14,
   "id": "595e5446-f667-4226-86a6-d10a635c6ffb",
   "metadata": {},
   "outputs": [
    {
     "name": "stdout",
     "output_type": "stream",
     "text": [
      "5\n",
      "6\n",
      "7\n"
     ]
    }
   ],
   "source": [
    "numbers = [5, 15, 6, 20, 7, 25]\n",
    "\n",
    "numbers = sorted(numbers) # 위 리스트 정렬\n",
    "\n",
    "for number in numbers:\n",
    "    if number > 10:\n",
    "        break\n",
    "    print(number) #프린트의 위치에 따라 출력되는 값이 달라진다.\n",
    "                    # 출력되기 이전에 break가 걸려서 15는 출력되지 못함"
   ]
  },
  {
   "cell_type": "code",
   "execution_count": 15,
   "id": "70f34baa-2a7c-4882-98c7-7df60c5b7914",
   "metadata": {},
   "outputs": [
    {
     "name": "stdout",
     "output_type": "stream",
     "text": [
      "15\n",
      "20\n",
      "25\n"
     ]
    }
   ],
   "source": [
    "numbers = [5, 15, 6, 20, 7, 25]\n",
    "\n",
    "for number in numbers:\n",
    "    if number < 10:\n",
    "        continue\n",
    "    print(number)"
   ]
  },
  {
   "cell_type": "markdown",
   "id": "8b5e18b7-258b-484f-a679-750e7556a5fb",
   "metadata": {},
   "source": [
    "# 04-3 확인테스트"
   ]
  },
  {
   "cell_type": "markdown",
   "id": "984324fb-dff9-40fb-8ae7-5a2fb1eedef8",
   "metadata": {},
   "source": [
    "# 함수"
   ]
  },
  {
   "cell_type": "markdown",
   "id": "88132167-e57e-4d2f-831d-51c4a4bedd92",
   "metadata": {},
   "source": [
    "## 함수 만들기\n",
    "- 공식 문서 볼때 필수 확인사항 2가지\n",
    "  + 매개변수 입력 방법 (or 자료형)\n",
    "  + 반환값, 반환되는 자료형의 형태(int, str, DataFrame, etc)"
   ]
  },
  {
   "cell_type": "code",
   "execution_count": 17,
   "id": "9e3c097d-572b-4ab4-bb56-c97b807844d9",
   "metadata": {},
   "outputs": [
    {
     "data": {
      "text/plain": [
       "5"
      ]
     },
     "execution_count": 17,
     "metadata": {},
     "output_type": "execute_result"
    }
   ],
   "source": [
    "text = \"안녕하세요\"\n",
    "len(text) #매개 변수를 사용하면 반환값이 나옴\n"
   ]
  },
  {
   "cell_type": "markdown",
   "id": "ef545de3-8652-41f0-a76f-11f98741fcd7",
   "metadata": {},
   "source": [
    "a 함수 ==> 리스트 ==> 문자열 변경\n",
    "\n",
    "b 함수 매개변수 문자열\n",
    "\n",
    "pandas는 str 로 받아드려서 DataFrame으로 리턴값을 준다.\n",
    "\n",
    "시각화 라이브러리\n",
    "SeaBorn\n",
    "matplotlib"
   ]
  },
  {
   "cell_type": "code",
   "execution_count": 32,
   "id": "38c1a00d-4e95-4f8d-894e-636db0910fa1",
   "metadata": {},
   "outputs": [
    {
     "ename": "SyntaxError",
     "evalue": "'return' outside function (451247466.py, line 18)",
     "output_type": "error",
     "traceback": [
      "\u001b[1;36m  Cell \u001b[1;32mIn[32], line 18\u001b[1;36m\u001b[0m\n\u001b[1;33m    return a+b\u001b[0m\n\u001b[1;37m    ^\u001b[0m\n\u001b[1;31mSyntaxError\u001b[0m\u001b[1;31m:\u001b[0m 'return' outside function\n"
     ]
    }
   ],
   "source": [
    "def add(a,b):\n",
    "    \n",
    "        \"\"\"Adds two numbers together.\n",
    "    \n",
    "    Args:\n",
    "        a (int, float): The first number.\n",
    "        b (int, float): The second number.\n",
    "    \n",
    "    Returns:\n",
    "        int, float: The sum of `a` and `b`.\n",
    "    \n",
    "    Examples:\n",
    "        >>> add(1, 2)\n",
    "        3\n",
    "        >>> add(1.5, 2.5)\n",
    "        4.0\n",
    "    \"\"\"\n",
    "return a+b\n",
    "\n",
    "add(1,2)"
   ]
  },
  {
   "cell_type": "code",
   "execution_count": 25,
   "id": "7d72948d-4824-441f-b978-5e6b4a8bd41f",
   "metadata": {},
   "outputs": [
    {
     "name": "stdout",
     "output_type": "stream",
     "text": [
      "None\n"
     ]
    }
   ],
   "source": [
    "print(add.__doc__)"
   ]
  },
  {
   "cell_type": "markdown",
   "id": "4ef05e33-15ef-4c0c-9061-4f00e23447cf",
   "metadata": {},
   "source": [
    "#### 사칙연산 함수 만들기"
   ]
  },
  {
   "cell_type": "code",
   "execution_count": 31,
   "id": "bf7f8dee-a9d4-4b6e-aa35-c5c955841134",
   "metadata": {},
   "outputs": [
    {
     "name": "stdout",
     "output_type": "stream",
     "text": [
      "15\n"
     ]
    }
   ],
   "source": [
    "def calculate(a,b,giho):\n",
    "    if giho == \"plus\":\n",
    "        return a+b\n",
    "    elif giho == \"minus\":\n",
    "        return a-b\n",
    "    elif giho == \"divide\":\n",
    "        return a/b\n",
    "    elif giho == \"multi\":\n",
    "        return a*b\n",
    "\n",
    "print(calculate(10, 5, 'plus'))"
   ]
  },
  {
   "cell_type": "markdown",
   "id": "084b3eae-ec46-4dc1-bf2e-a3d353e5b5c4",
   "metadata": {},
   "source": [
    "## 매개변수"
   ]
  },
  {
   "cell_type": "markdown",
   "id": "1285cef4-1b8a-451b-8ee4-e4efbb856f5f",
   "metadata": {},
   "source": [
    "### 에러 유형 확인"
   ]
  },
  {
   "cell_type": "markdown",
   "id": "b2a10120-943a-44d7-8e3f-d7030029d7aa",
   "metadata": {},
   "source": [
    "예제 문제"
   ]
  },
  {
   "cell_type": "code",
   "execution_count": 36,
   "id": "50d134ae-a3c7-4a03-8630-84c5dacfbdd6",
   "metadata": {},
   "outputs": [
    {
     "name": "stdout",
     "output_type": "stream",
     "text": [
      "안녕하세요\n",
      "안녕하세요\n",
      "안녕하세요\n",
      "안녕하세요\n",
      "안녕하세요\n"
     ]
    }
   ],
   "source": [
    "def print_n_times(value, n):\n",
    "    for i in range(n):\n",
    "        print(value)\n",
    "\n",
    "print_n_times(\"안녕하세요\", 5)"
   ]
  },
  {
   "cell_type": "code",
   "execution_count": null,
   "id": "51e464bb-858e-49b5-b183-f6971124051f",
   "metadata": {},
   "outputs": [],
   "source": [
    "숫자를 집어 넣지 않은 경우"
   ]
  },
  {
   "cell_type": "code",
   "execution_count": 34,
   "id": "44430d67-5fe1-4756-a0ed-f1f2400290df",
   "metadata": {},
   "outputs": [
    {
     "ename": "TypeError",
     "evalue": "print_n_times() missing 1 required positional argument: 'n'",
     "output_type": "error",
     "traceback": [
      "\u001b[1;31m---------------------------------------------------------------------------\u001b[0m",
      "\u001b[1;31mTypeError\u001b[0m                                 Traceback (most recent call last)",
      "Cell \u001b[1;32mIn[34], line 5\u001b[0m\n\u001b[0;32m      2\u001b[0m     \u001b[38;5;28;01mfor\u001b[39;00m i \u001b[38;5;129;01min\u001b[39;00m \u001b[38;5;28mrange\u001b[39m(n):\n\u001b[0;32m      3\u001b[0m         \u001b[38;5;28mprint\u001b[39m(value)\n\u001b[1;32m----> 5\u001b[0m \u001b[43mprint_n_times\u001b[49m\u001b[43m(\u001b[49m\u001b[38;5;124;43m\"\u001b[39;49m\u001b[38;5;124;43m안녕하세요\u001b[39;49m\u001b[38;5;124;43m\"\u001b[39;49m\u001b[43m)\u001b[49m \u001b[38;5;66;03m#숫자를 집어넣지 않음\u001b[39;00m\n",
      "\u001b[1;31mTypeError\u001b[0m: print_n_times() missing 1 required positional argument: 'n'"
     ]
    }
   ],
   "source": [
    "def print_n_times(value, n):\n",
    "    for i in range(n):\n",
    "        print(value)\n",
    "\n",
    "print_n_times(\"안녕하세요\") #숫자를 집어넣지 않음\n"
   ]
  },
  {
   "cell_type": "markdown",
   "id": "279e8216-b404-4890-a8cd-adda8af3bab9",
   "metadata": {},
   "source": [
    "- print_n_times() missing 1 required positional argument: 'n'\n",
    "     + 숫자를 집어넣지 않음"
   ]
  },
  {
   "cell_type": "code",
   "execution_count": 35,
   "id": "5830034f-c717-4c8f-a607-d8e26dcfe3d7",
   "metadata": {},
   "outputs": [
    {
     "ename": "TypeError",
     "evalue": "print_n_times() takes 2 positional arguments but 3 were given",
     "output_type": "error",
     "traceback": [
      "\u001b[1;31m---------------------------------------------------------------------------\u001b[0m",
      "\u001b[1;31mTypeError\u001b[0m                                 Traceback (most recent call last)",
      "Cell \u001b[1;32mIn[35], line 5\u001b[0m\n\u001b[0;32m      2\u001b[0m     \u001b[38;5;28;01mfor\u001b[39;00m i \u001b[38;5;129;01min\u001b[39;00m \u001b[38;5;28mrange\u001b[39m(n):\n\u001b[0;32m      3\u001b[0m         \u001b[38;5;28mprint\u001b[39m(value)\n\u001b[1;32m----> 5\u001b[0m \u001b[43mprint_n_times\u001b[49m\u001b[43m(\u001b[49m\u001b[38;5;124;43m\"\u001b[39;49m\u001b[38;5;124;43m안녕하세요\u001b[39;49m\u001b[38;5;124;43m\"\u001b[39;49m\u001b[43m,\u001b[49m\u001b[43m \u001b[49m\u001b[38;5;241;43m10\u001b[39;49m\u001b[43m,\u001b[49m\u001b[38;5;241;43m20\u001b[39;49m\u001b[43m)\u001b[49m\n",
      "\u001b[1;31mTypeError\u001b[0m: print_n_times() takes 2 positional arguments but 3 were given"
     ]
    }
   ],
   "source": [
    "def print_n_times(value, n):\n",
    "    for i in range(n):\n",
    "        print(value)\n",
    "\n",
    "print_n_times(\"안녕하세요\", 10,20)"
   ]
  },
  {
   "cell_type": "markdown",
   "id": "4df81ec8-0cff-4969-b192-033b42a92dfd",
   "metadata": {},
   "source": [
    "- print_n_times() takes 2 positional arguments but 3 were given\n",
    "    + 입력값이 2개 들어와야 하지만 3개가 들어왔다는 오류"
   ]
  },
  {
   "cell_type": "markdown",
   "id": "b685d35e-cba8-466b-ba41-f1bc29f7b997",
   "metadata": {},
   "source": [
    "에러가 났을땐 침착하게 공식 문서 들어가서 찾아보기"
   ]
  },
  {
   "cell_type": "markdown",
   "id": "732a7e39-4d03-4d04-af81-72f2e6a62b44",
   "metadata": {},
   "source": [
    "### 가변매개변수\n",
    "- *를 매개변수에 추가"
   ]
  },
  {
   "cell_type": "code",
   "execution_count": 38,
   "id": "4c70fad4-a8cd-4f94-961d-df60dcc1f639",
   "metadata": {},
   "outputs": [
    {
     "name": "stdout",
     "output_type": "stream",
     "text": [
      "a\n",
      "b\n",
      "c\n",
      "1\n",
      "100\n",
      "aaa\n",
      "[1, 2, 3]\n",
      "\n",
      "a\n",
      "b\n",
      "c\n",
      "1\n",
      "100\n",
      "aaa\n",
      "[1, 2, 3]\n",
      "\n",
      "a\n",
      "b\n",
      "c\n",
      "1\n",
      "100\n",
      "aaa\n",
      "[1, 2, 3]\n",
      "\n"
     ]
    }
   ],
   "source": [
    "def print_n_times(n, *values):\n",
    "    for i in range(n):\n",
    "        for value in values:\n",
    "            print(value)\n",
    "        print()\n",
    "\n",
    "print_n_times(3, 'a', 'b', 'c', 1, 100, 'aaa',[1, 2, 3] )"
   ]
  },
  {
   "cell_type": "code",
   "execution_count": 49,
   "id": "cbe86f19-9981-4052-9db9-46d588284062",
   "metadata": {},
   "outputs": [
    {
     "name": "stdout",
     "output_type": "stream",
     "text": [
      "<class 'int'>\n"
     ]
    },
    {
     "data": {
      "text/plain": [
       "10"
      ]
     },
     "execution_count": 49,
     "metadata": {},
     "output_type": "execute_result"
    }
   ],
   "source": [
    "def add_many(*nums):\n",
    "    result = 0\n",
    "    print(type(result))\n",
    "    for num in nums:\n",
    "        result += num\n",
    "\n",
    "    return result\n",
    "\n",
    "add_many(1, 2, 3, 4)\n"
   ]
  },
  {
   "cell_type": "markdown",
   "id": "98e063e2-d962-4e24-a11c-e0b4596177f1",
   "metadata": {},
   "source": [
    "### 키워드 매개변수 **kwargs\n",
    "- 매개변수 앞에 ** 두개 붙인 케이스"
   ]
  },
  {
   "cell_type": "code",
   "execution_count": 44,
   "id": "dd3e9bc5-a1b9-4b22-814f-12499438f278",
   "metadata": {},
   "outputs": [],
   "source": [
    "def print_kwargs(**kwargs):\n",
    "\n",
    "    #이 메서드는 return값이 없음\n",
    "    print(kwaegs) #어떻게 출력이 될까?"
   ]
  },
  {
   "cell_type": "code",
   "execution_count": 45,
   "id": "9a70d73f-99bd-4027-be34-cd6684182338",
   "metadata": {},
   "outputs": [
    {
     "name": "stdout",
     "output_type": "stream",
     "text": [
      "{'a': 1}\n"
     ]
    }
   ],
   "source": [
    "print_kwargs(a = 1) #리스트 형태로 출력이 됨"
   ]
  },
  {
   "cell_type": "code",
   "execution_count": 52,
   "id": "d98486dd-5e7a-4a64-8b9a-c7d2991e535c",
   "metadata": {},
   "outputs": [
    {
     "name": "stdout",
     "output_type": "stream",
     "text": [
      "111\n"
     ]
    }
   ],
   "source": [
    "def test1(a, b=10, c=100):\n",
    "    #값을 전달할 필요가 없고, 단순 확인용도로만 함수를 만들때\n",
    "    print(a + b + c)\n",
    "\n",
    "#test 1 (1)\n",
    "result = test1(1)"
   ]
  },
  {
   "cell_type": "code",
   "execution_count": 53,
   "id": "0302f383-1e69-45ba-aab1-88b21cc385ee",
   "metadata": {},
   "outputs": [
    {
     "data": {
      "text/plain": [
       "111"
      ]
     },
     "execution_count": 53,
     "metadata": {},
     "output_type": "execute_result"
    }
   ],
   "source": [
    "def test2(a, b=10, c=100):\n",
    "    #값을 전달해야 할 때는 return값을 지정\n",
    "    return a + b + c\n",
    "\n",
    "result = test2(1)\n",
    "result"
   ]
  },
  {
   "cell_type": "markdown",
   "id": "bf1a56cb-f59e-46f1-ad67-4f5eb1c923e4",
   "metadata": {},
   "source": [
    "# 클래스"
   ]
  },
  {
   "cell_type": "markdown",
   "id": "abdd8ccf-2178-4263-af11-3ca7db273b6c",
   "metadata": {},
   "source": [
    "## why 클래스?\n",
    "\n",
    "- 함수, 반복문만 적절하게 사용해도 큰 문제 안됨\n",
    "- 함수들의 집합체\n",
    "- why 클래스?\n",
    "    + 한줄로 요약 : 자동화/ 많은 사람들이 사용 할 수 있도록 배포"
   ]
  },
  {
   "cell_type": "code",
   "execution_count": 55,
   "id": "c7294d0f-9b9c-4259-9fc6-13fce4d062ec",
   "metadata": {},
   "outputs": [
    {
     "name": "stdout",
     "output_type": "stream",
     "text": [
      "3\n",
      "7\n"
     ]
    }
   ],
   "source": [
    "result = 0\n",
    "\n",
    "def add(num):\n",
    "    global result # 전역변수 (어디에서도 내가 이변수를 쓰겠다)\n",
    "    result += num # 결괏값에 입력값 num 더하기\n",
    "    return result\n",
    "\n",
    "print(add(3))\n",
    "print(add(4))"
   ]
  },
  {
   "cell_type": "markdown",
   "id": "691bd24f-fab8-4ae5-b3f6-5d6062e56961",
   "metadata": {},
   "source": [
    "## 클래스 만들기"
   ]
  },
  {
   "cell_type": "code",
   "execution_count": 58,
   "id": "10ada229-2efb-496e-aa2b-561bd1b41574",
   "metadata": {},
   "outputs": [
    {
     "name": "stdout",
     "output_type": "stream",
     "text": [
      "3\n",
      "7\n",
      "5\n",
      "11\n",
      "7\n",
      "19\n",
      "8\n"
     ]
    }
   ],
   "source": [
    "class Calculator:\n",
    "    def __init__(self):\n",
    "        self.result = 0\n",
    "\n",
    "    def add(self, num):\n",
    "        self.result += num\n",
    "        return self.result\n",
    "\n",
    "# 사용자1\n",
    "cal1 = Calculator() # 첫번째 사용자\n",
    "cal2 = Calculator() # 두번째 사용자\n",
    "cal3 = Calculator() # 세번쨰 사용자\n",
    "\n",
    "print(cal1.add(3))\n",
    "print(cal1.add(4))\n",
    "print(cal2.add(5))\n",
    "print(cal1.add(4))"
   ]
  },
  {
   "cell_type": "code",
   "execution_count": 74,
   "id": "baf94651-5ffd-4f41-bfd9-c95db0ccb224",
   "metadata": {},
   "outputs": [
    {
     "name": "stdout",
     "output_type": "stream",
     "text": [
      "3\n",
      "5\n",
      "7\n",
      "9\n"
     ]
    }
   ],
   "source": [
    "result1 = 0\n",
    "result2 = 0 \n",
    "result3 = 0\n",
    "result4 = 0\n",
    "\n",
    "\n",
    "def add1(num):\n",
    "    global result1 # 전역변수 \n",
    "    result1 += num # 결괏값에 입력값 num 더하기\n",
    "    return result1\n",
    "\n",
    "def add2(num):\n",
    "    global result2 # 전역변수 \n",
    "    result2 += num # 결괏값에 입력값 num 더하기\n",
    "    return result2\n",
    "    \n",
    "#새롭게 추가된 메서드\n",
    "def sub(self, num):\n",
    "    result3 -= num \n",
    "    return result3\n",
    "\n",
    "print(add1(3)) # 첫번째 사람\n",
    "print(add2(5)) # 두번째 사람\n",
    "print(add1(4)) # 첫번째 사람\n",
    "print(add2(4)) # 두번째 사람"
   ]
  },
  {
   "cell_type": "code",
   "execution_count": null,
   "id": "b99bf1e5-d8be-4415-8d59-1aa20a65b2b8",
   "metadata": {},
   "outputs": [],
   "source": [
    "class StudentGrade:\n",
    "    pass"
   ]
  },
  {
   "cell_type": "markdown",
   "id": "2ad4e61d-ecf4-4cd6-b140-a3fcf6547927",
   "metadata": {},
   "source": [
    "인스턴스 이름 (=변수 이름) = 클래스 이름 --> 생성자 함수"
   ]
  },
  {
   "cell_type": "code",
   "execution_count": null,
   "id": "d48b5cac-bd76-4522-858d-32ae7c2c72d9",
   "metadata": {},
   "outputs": [],
   "source": [
    "class StudentGrade:\n",
    "    pass\n",
    "\n",
    "# 학생을 선언합니다.\n",
    "희교 = Student() #하나의 의미있는 객체\n",
    "성민 = Student() #하나의 의미있는 객체\n",
    "승훈 = Student() #하나의 의미있는 객체"
   ]
  },
  {
   "cell_type": "code",
   "execution_count": 83,
   "id": "4c0642af-82fc-4bec-80c5-40cd2393f138",
   "metadata": {},
   "outputs": [],
   "source": [
    "class Student:\n",
    "    \"\"\"A class to represent a student and their grades.\n",
    "\n",
    "    Attributes:\n",
    "        name (str): The name of the student.\n",
    "        korean (int): The Korean score of the student.\n",
    "        math (int): The Math score of the student.\n",
    "        english (int): The English score of the student.\n",
    "        science (int): The Science score of the student.\n",
    "    \"\"\"\n",
    "\n",
    "    def __init__(self, name, korean, math, english, science):\n",
    "        \"\"\"Initializes the Student with name and scores in four subjects.\n",
    "\n",
    "        Args:\n",
    "            name (str): The name of the student.\n",
    "            korean (int): The Korean score of the student.\n",
    "            math (int): The Math score of the student.\n",
    "            english (int): The English score of the student.\n",
    "            science (int): The Science score of the student.\n",
    "        \"\"\"\n",
    "        self.name = name\n",
    "        self.korean = korean\n",
    "        self.math = math\n",
    "        self.english = english\n",
    "        self.science = science\n",
    "\n",
    "    def get_sum(self):\n",
    "        \"\"\"Calculates the sum of the student's scores.\n",
    "\n",
    "        Returns:\n",
    "            int: The sum of the scores in Korean, Math, English, and Science.\n",
    "        \"\"\"\n",
    "        return self.korean + self.math + self.english + self.science\n",
    "\n",
    "    def get_average(self):\n",
    "        \"\"\"Calculates the average of the student's scores.\n",
    "\n",
    "        Returns:\n",
    "            float: The average of the scores in Korean, Math, English, and Science.\n",
    "        \"\"\"\n",
    "        return self.get_sum() / 4\n",
    "\n",
    "    def get_grade(self):\n",
    "        \"\"\"Determines the grade of the student based on their average score.\n",
    "\n",
    "        Returns:\n",
    "            str: 'A' if the average score is above 90, otherwise 'F'.\n",
    "        \"\"\"\n",
    "        grade = None\n",
    "        if self.get_average() > 90:\n",
    "            grade = 'A'\n",
    "        else:\n",
    "            grade = 'F'\n",
    "        return grade\n",
    "\n",
    "students = [\n",
    "    Student(\"윤인성\", 87, 98, 88, 95), \n",
    "    Student(\"Evan\", 50, 20, 15, 40), \n",
    "]"
   ]
  },
  {
   "cell_type": "code",
   "execution_count": 84,
   "id": "a0e04c92-ac37-490f-9859-5db0573eea3e",
   "metadata": {},
   "outputs": [
    {
     "data": {
      "text/plain": [
       "('A', 368, 92.0)"
      ]
     },
     "execution_count": 84,
     "metadata": {},
     "output_type": "execute_result"
    }
   ],
   "source": [
    "students[0].get_grade(), students[0].get_sum(), students[0].get_average() "
   ]
  },
  {
   "cell_type": "code",
   "execution_count": 73,
   "id": "96319a14-478a-4667-a4d7-2c879a9863d8",
   "metadata": {},
   "outputs": [
    {
     "data": {
      "text/plain": [
       "368"
      ]
     },
     "execution_count": 73,
     "metadata": {},
     "output_type": "execute_result"
    }
   ],
   "source": [
    "students[0].get_sum()"
   ]
  },
  {
   "cell_type": "code",
   "execution_count": 89,
   "id": "c6674e0b-3b5f-47db-ab99-4e185b83fa89",
   "metadata": {},
   "outputs": [
    {
     "name": "stdout",
     "output_type": "stream",
     "text": [
      "A 368 92.0\n",
      "F 125 31.25\n"
     ]
    }
   ],
   "source": [
    "for i in range(0,len(students)):\n",
    "    print(students[i].get_grade(), students[i].get_sum(), students[i].get_average() )"
   ]
  },
  {
   "cell_type": "markdown",
   "id": "54ae265e-2364-4964-9cc8-6a5d20249ff0",
   "metadata": {},
   "source": [
    "## 인스턴스 확인\n",
    "- isinstance(인스턴스, 클래스)"
   ]
  },
  {
   "cell_type": "code",
   "execution_count": 95,
   "id": "fc29f774-58d4-4516-9701-0ab4db3cb7fd",
   "metadata": {},
   "outputs": [
    {
     "data": {
      "text/plain": [
       "False"
      ]
     },
     "execution_count": 95,
     "metadata": {},
     "output_type": "execute_result"
    }
   ],
   "source": [
    "class Student:\n",
    "    def __init__(self) :\n",
    "        pass\n",
    "\n",
    "Student == Student()\n",
    "isinstance(Student, Student)"
   ]
  },
  {
   "cell_type": "code",
   "execution_count": 96,
   "id": "5a203bad-3e1b-4491-ad2a-852508c6db72",
   "metadata": {},
   "outputs": [
    {
     "data": {
      "text/plain": [
       "False"
      ]
     },
     "execution_count": 96,
     "metadata": {},
     "output_type": "execute_result"
    }
   ],
   "source": [
    "isinstance(Student, Calculator)"
   ]
  },
  {
   "cell_type": "code",
   "execution_count": 101,
   "id": "c468f8ff-ce18-4054-8a6d-e26ce211f4a6",
   "metadata": {},
   "outputs": [],
   "source": [
    "### 상속문법\n",
    "class Human:\n",
    "    def __init__(self):\n",
    "        pass\n",
    "\n",
    "class Student(Human):\n",
    "    def __init__(self):\n",
    "        pass"
   ]
  },
  {
   "cell_type": "markdown",
   "id": "c1858515-36bf-456e-8e39-5ac927175685",
   "metadata": {},
   "source": [
    "## 상속 문법\n",
    "- P497"
   ]
  },
  {
   "cell_type": "code",
   "execution_count": null,
   "id": "d022b26d-60d9-4b97-ab7d-5b098d955d06",
   "metadata": {},
   "outputs": [],
   "source": [
    "# 부모 클래스를 선언합니다.\n",
    "class Parent:\n",
    "    def __init__(self):\n",
    "        self.value = \"테스트\"\n",
    "        print(\"Parent 클래스의 __init()__ 메서드가 호출되었습니다.\")\n",
    "    def test(self):\n",
    "        print(\"Parent 클래스의 test() 메서드입니다.\")\n",
    "\n",
    "# 자식 클래스를 선언합니다.\n",
    "class Child(Parent):\n",
    "    def __init__(self):\n",
    "        super().__init__() # 부모의 __init__() 함수를 호출합니다.\n",
    "        print(\"Child 클래스의 __init()__ 메서드가 호출되었습니다.\")\n",
    "\n",
    "# 자식 클래스의 인스턴스를 생성하고 부모의 메서드를 호출합니다.\n",
    "child = Child()\n",
    "child.test()\n",
    "print(child.value)"
   ]
  },
  {
   "cell_type": "code",
   "execution_count": 102,
   "id": "867442bf-c792-43e3-8f49-1151e29938c9",
   "metadata": {},
   "outputs": [],
   "source": [
    "class Parent :\n",
    "    pass\n",
    "\n",
    "class Child(Parent):\n",
    "    def __init__(self):\n",
    "        super().__init__()"
   ]
  },
  {
   "cell_type": "code",
   "execution_count": null,
   "id": "04f3bd27-e20c-430f-89db-e9fe5b642ee5",
   "metadata": {},
   "outputs": [],
   "source": []
  }
 ],
 "metadata": {
  "kernelspec": {
   "display_name": "Python 3 (ipykernel)",
   "language": "python",
   "name": "python3"
  },
  "language_info": {
   "codemirror_mode": {
    "name": "ipython",
    "version": 3
   },
   "file_extension": ".py",
   "mimetype": "text/x-python",
   "name": "python",
   "nbconvert_exporter": "python",
   "pygments_lexer": "ipython3",
   "version": "3.11.7"
  }
 },
 "nbformat": 4,
 "nbformat_minor": 5
}

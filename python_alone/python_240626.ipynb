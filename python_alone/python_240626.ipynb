{
 "cells": [
  {
   "cell_type": "markdown",
   "id": "cf4e9a26-5566-449e-9492-84a4e893fd48",
   "metadata": {},
   "source": [
    "# 목차1 - 식별자 \n",
    "- 식별자에 대하여 배웁니다."
   ]
  },
  {
   "cell_type": "markdown",
   "id": "1dc0124d-d868-4b84-85cc-da55a3cee7a3",
   "metadata": {},
   "source": [
    "### 스네이크 케이스와 캐멀 케이스\n",
    "- 각 프로그래밍 언어마다 양식이 존재함\n",
    "- 클래스를 정의할때, 앞문자가 대문자여야 함 /camelCase\n",
    "- 함수를 정의할떄 snke_case 방식으로 정의하라\n",
    "- "
   ]
  },
  {
   "cell_type": "code",
   "execution_count": null,
   "id": "1647585a-7f89-40fc-889d-bab7f32e3859",
   "metadata": {},
   "outputs": [],
   "source": [
    "# 1+1"
   ]
  },
  {
   "cell_type": "markdown",
   "id": "49a676a1-611c-40bf-8372-886cd701bffd",
   "metadata": {},
   "source": [
    "# 목차 2 - 식별자 구분하기"
   ]
  },
  {
   "cell_type": "code",
   "execution_count": null,
   "id": "bce93e14-1d20-49a9-850a-affb3d84cdc2",
   "metadata": {},
   "outputs": [],
   "source": [
    "print() #소문자\n",
    "list() #소문자\n",
    "class Animal # 대문자\n",
    "BeautifulSoup() #대문자 camel Case"
   ]
  },
  {
   "cell_type": "markdown",
   "id": "86eec912-0d50-4782-b492-57eb72ada742",
   "metadata": {},
   "source": [
    "# 입력과 출력\n",
    "- input() : 입력\n",
    "- Print() : 출력"
   ]
  },
  {
   "cell_type": "code",
   "execution_count": 2,
   "id": "63a97e80-2451-4133-8573-a4b404d77aa8",
   "metadata": {},
   "outputs": [
    {
     "name": "stdin",
     "output_type": "stream",
     "text": [
      "아무거나 입력하세여 \n"
     ]
    },
    {
     "name": "stdout",
     "output_type": "stream",
     "text": [
      "\n"
     ]
    }
   ],
   "source": [
    "var1 = input(\"아무거나 입력하세여\")\n",
    "print(var1)"
   ]
  },
  {
   "cell_type": "markdown",
   "id": "93266b33-950d-4276-bcb7-5edba07fa06e",
   "metadata": {},
   "source": [
    "- 숫자 출력할때와 문자를 출ㄹ력항때가 다름"
   ]
  },
  {
   "cell_type": "code",
   "execution_count": 4,
   "id": "bdd03f8d-f222-40e0-a341-1b2c3df98123",
   "metadata": {},
   "outputs": [
    {
     "name": "stdout",
     "output_type": "stream",
     "text": [
      "# 하나만 출력합니다.\n",
      "\n",
      "10 20 30\n"
     ]
    }
   ],
   "source": [
    "print(\"# 하나만 출력합니다.\")\n",
    "print()\n",
    "print(10,20,30)"
   ]
  },
  {
   "cell_type": "markdown",
   "id": "5b36229e-aee9-48ae-9f53-0c730d83176b",
   "metadata": {},
   "source": [
    "#자료형과 문자열\n",
    "- 숫자\n",
    "- 문자\n",
    "- 논리 / True or False"
   ]
  },
  {
   "cell_type": "code",
   "execution_count": 6,
   "id": "4cfa3c1f-8ed9-43d7-8c4e-fa4cdfe099e0",
   "metadata": {},
   "outputs": [
    {
     "name": "stdout",
     "output_type": "stream",
     "text": [
      "<class 'str'>\n"
     ]
    }
   ],
   "source": [
    "print(type(\"안녕하세요\"))"
   ]
  },
  {
   "cell_type": "code",
   "execution_count": 8,
   "id": "06917d2b-c4f4-45de-ab34-00fe38e4f800",
   "metadata": {},
   "outputs": [
    {
     "name": "stdout",
     "output_type": "stream",
     "text": [
      "<class 'pandas.core.frame.DataFrame'>\n"
     ]
    }
   ],
   "source": [
    "import pandas as pd\n",
    "df = pd.DataFrame({\n",
    "    'col1' :[1,2,3],\n",
    "    'col2' :[1,2,3],\n",
    "})\n",
    "print(type(df))"
   ]
  },
  {
   "cell_type": "markdown",
   "id": "25bb412d-fdd4-4f76-9db3-ed6f98cd12e4",
   "metadata": {},
   "source": [
    "##문자열 만들기\n",
    "- 큰 따옴표 방식 / 작은 따옴표 방식\n",
    "- 결론=> 지금은 구분하지 않음\n",
    "- 주의해야 할 것 \"\", ''식으로 매칭되어야 함"
   ]
  },
  {
   "cell_type": "markdown",
   "id": "1a77d3fd-2b4b-4cf7-a0e1-736c32315477",
   "metadata": {},
   "source": [
    "P89 확인"
   ]
  },
  {
   "cell_type": "code",
   "execution_count": 10,
   "id": "e5b3c3a0-d50b-40aa-ad0c-288d0c38db05",
   "metadata": {},
   "outputs": [
    {
     "name": "stdout",
     "output_type": "stream",
     "text": [
      "\"안녕하세요\"라고 말했습니다\n"
     ]
    }
   ],
   "source": [
    "print('\"안녕하세요\"라고 말했습니다')"
   ]
  },
  {
   "cell_type": "markdown",
   "id": "5d89e5d8-35bf-4c40-a2e4-767ae91c393b",
   "metadata": {},
   "source": [
    "## 이스케이프 문자 \n",
    "\\n : 줄바꿈\n",
    "\\t : 탭\n",
    "\\\\ : 역슬래시 (\\)를 의미한다."
   ]
  },
  {
   "cell_type": "code",
   "execution_count": 11,
   "id": "da6b8b09-3a34-40a3-ac16-9bb3c5e26ef2",
   "metadata": {},
   "outputs": [
    {
     "name": "stdout",
     "output_type": "stream",
     "text": [
      "안녕하세요\n",
      "안녕하세요\n"
     ]
    }
   ],
   "source": [
    "print('안녕하세요\\n안녕하세요')"
   ]
  },
  {
   "cell_type": "code",
   "execution_count": 14,
   "id": "19f1ab0e-c555-4829-8862-bd3857a57153",
   "metadata": {},
   "outputs": [
    {
     "name": "stdout",
     "output_type": "stream",
     "text": [
      "안녕하세요\t안녕하세요\n"
     ]
    }
   ],
   "source": [
    "print('안녕하세요\\t안녕하세요')"
   ]
  },
  {
   "cell_type": "markdown",
   "id": "5aa725c6-0c1d-4670-a1a9-8d3b748a9269",
   "metadata": {},
   "source": [
    "##문자열 연산자 \n",
    "- 자주사용함\n",
    "- 사칙연산 중에서 덧셈 곱샘 가능"
   ]
  },
  {
   "cell_type": "code",
   "execution_count": 15,
   "id": "3ba76134-609b-4ef7-adf7-98ea6d87e861",
   "metadata": {},
   "outputs": [
    {
     "name": "stdout",
     "output_type": "stream",
     "text": [
      "안녕하세요\n"
     ]
    }
   ],
   "source": [
    "print('안녕'+'하세요')"
   ]
  },
  {
   "cell_type": "code",
   "execution_count": 17,
   "id": "341c7faa-101b-45a5-9ef9-e3ee085af587",
   "metadata": {},
   "outputs": [
    {
     "name": "stdout",
     "output_type": "stream",
     "text": [
      "안녕하세요\n"
     ]
    }
   ],
   "source": [
    "var1 = '안녕'\n",
    "var2 = '하세요'\n",
    "result = var1 + var2\n",
    "print(result)\n"
   ]
  },
  {
   "cell_type": "code",
   "execution_count": 22,
   "id": "686fbc3d-1ae3-48f5-9a09-45195fd1bfb5",
   "metadata": {},
   "outputs": [
    {
     "name": "stdout",
     "output_type": "stream",
     "text": [
      "1안녕\n"
     ]
    }
   ],
   "source": [
    "num1 = '1'\n",
    "var1 = '안녕'\n",
    "\n",
    "result2 = num1 + var1\n",
    "print(result2)"
   ]
  },
  {
   "cell_type": "code",
   "execution_count": 25,
   "id": "7647a5e7-b0e8-441e-bd40-105d56dec901",
   "metadata": {},
   "outputs": [
    {
     "name": "stdout",
     "output_type": "stream",
     "text": [
      "1안녕\n"
     ]
    }
   ],
   "source": [
    "num1 = 1\n",
    "var1 = '안녕'\n",
    "\n",
    "result2 = str(num1) + var1 #임시로 형변환 함  Class로 \n",
    "print(result2) #자료형을 변환"
   ]
  },
  {
   "cell_type": "code",
   "execution_count": 29,
   "id": "43cbea91-3d4f-43ed-ad34-3f75f39f1de7",
   "metadata": {},
   "outputs": [
    {
     "name": "stdout",
     "output_type": "stream",
     "text": [
      "2\n"
     ]
    }
   ],
   "source": [
    "num2 = 1\n",
    "result3 = num1 + num2\n",
    "print(result3)"
   ]
  },
  {
   "cell_type": "code",
   "execution_count": 32,
   "id": "3290f980-a781-4f46-a817-4ae747ffd4f5",
   "metadata": {},
   "outputs": [
    {
     "name": "stdout",
     "output_type": "stream",
     "text": [
      "<class 'str'>\n",
      "<class 'int'>\n"
     ]
    }
   ],
   "source": [
    "num3 = '1'\n",
    "print(type(num3))\n",
    "print(type(int(num3)))"
   ]
  },
  {
   "cell_type": "markdown",
   "id": "dd073a29-5ed6-418c-acfd-121297a848a7",
   "metadata": {},
   "source": [
    "## 문자 선택 연산자 (인덱싱) : []\n",
    "- 리스트, 튜플 등 원리는 동일함"
   ]
  },
  {
   "cell_type": "code",
   "execution_count": 39,
   "id": "c3990ae2-8d49-4df3-968b-774237e9a66c",
   "metadata": {},
   "outputs": [
    {
     "name": "stdout",
     "output_type": "stream",
     "text": [
      "안\n",
      "녕\n",
      "세요\n",
      "하\n"
     ]
    }
   ],
   "source": [
    "var1 = '안녕하세요'\n",
    "print(var1[0])\n",
    "print(var1[1])\n",
    "print(var1[-2:]) #뒤에서 몇번쨰 부터 시작\n",
    "print(var1[-3])"
   ]
  },
  {
   "cell_type": "code",
   "execution_count": 43,
   "id": "db3aba00-6755-46bd-b118-4e57e12d6444",
   "metadata": {},
   "outputs": [
    {
     "name": "stdout",
     "output_type": "stream",
     "text": [
      " \n",
      ",\n"
     ]
    }
   ],
   "source": [
    "var1 = 'hello, Python!!'\n",
    "print(var1[6]) #콤마나 공백도 포함됨\n",
    "\n",
    "print(var1[5])"
   ]
  },
  {
   "cell_type": "markdown",
   "id": "39ca1f32-a5ce-4ab9-bb87-9e59687247df",
   "metadata": {},
   "source": [
    "## 문자열 범위 선택 (슬라이싱) [:]\n",
    "- 리스트, 투플 등 자료형과 원리 동일"
   ]
  },
  {
   "cell_type": "code",
   "execution_count": 46,
   "id": "72153b9b-b318-4ca4-ac2b-9341d8e3aa09",
   "metadata": {},
   "outputs": [
    {
     "name": "stdout",
     "output_type": "stream",
     "text": [
      "ell\n"
     ]
    }
   ],
   "source": [
    "    #0123456789\n",
    "var1 = 'hello, Python!!'\n",
    "\n",
    "print(var1[1:4])"
   ]
  },
  {
   "cell_type": "code",
   "execution_count": 55,
   "id": "21517f29-5208-4b94-952a-a6bbd66edfc5",
   "metadata": {},
   "outputs": [
    {
     "name": "stdout",
     "output_type": "stream",
     "text": [
      "d\n",
      "f\n",
      "uk\n"
     ]
    }
   ],
   "source": [
    "var2= 'afdcfsfasdkukeloo'\n",
    "print(var2[2])\n",
    "print(var2[4])\n",
    "print(var2[-6:-4])"
   ]
  },
  {
   "cell_type": "markdown",
   "id": "f5c517c7-a0cd-49b6-aeee-3386d950a5f7",
   "metadata": {},
   "source": [
    "##문자열 길이 구하기"
   ]
  },
  {
   "cell_type": "code",
   "execution_count": 56,
   "id": "c85ec5a3-e5ed-4965-a08b-bdbe0ec9c048",
   "metadata": {},
   "outputs": [
    {
     "data": {
      "text/plain": [
       "17"
      ]
     },
     "execution_count": 56,
     "metadata": {},
     "output_type": "execute_result"
    }
   ],
   "source": [
    "len(var2)"
   ]
  },
  {
   "cell_type": "code",
   "execution_count": 57,
   "id": "0097124b-a1bc-4d8a-8111-0bda379f19a5",
   "metadata": {},
   "outputs": [
    {
     "name": "stdout",
     "output_type": "stream",
     "text": [
      "aaaaaaaaaa\n"
     ]
    }
   ],
   "source": [
    "var1 = \"abababababababababab\"\n",
    "print(var1[0::2]) # 0번째 문자부터 2번째 문자만 출력"
   ]
  },
  {
   "cell_type": "code",
   "execution_count": 58,
   "id": "b808dcc0-7553-4966-97ce-1a172a237186",
   "metadata": {},
   "outputs": [
    {
     "name": "stdout",
     "output_type": "stream",
     "text": [
      "bbbbbbbbbb\n"
     ]
    }
   ],
   "source": [
    "var1 = \"abababababababababab\"\n",
    "print(var1[1::2]) # 1번째 문자부터 2번째 문자만 출력"
   ]
  },
  {
   "cell_type": "code",
   "execution_count": 59,
   "id": "472ead8f-a53e-4dde-a944-9ee6cf6e6c18",
   "metadata": {},
   "outputs": [
    {
     "name": "stdout",
     "output_type": "stream",
     "text": [
      "aaaaaaaaaa\n"
     ]
    }
   ],
   "source": [
    "var1 = \"abababababababababab\"\n",
    "print(var1[::2]) # 0번째 문자부터 2번째 문자만 출력"
   ]
  },
  {
   "cell_type": "markdown",
   "id": "11aa4ea2-f0de-4237-a391-0bccea116760",
   "metadata": {},
   "source": [
    "# 자료형과 숫자"
   ]
  },
  {
   "cell_type": "markdown",
   "id": "345f84a2-3cce-40f7-8483-0f8452bc2205",
   "metadata": {},
   "source": [
    "## 지수 표현"
   ]
  },
  {
   "cell_type": "code",
   "execution_count": 61,
   "id": "e487a8e1-4c18-4f00-b926-6129979d59a7",
   "metadata": {},
   "outputs": [
    {
     "data": {
      "text/plain": [
       "52.273"
      ]
     },
     "execution_count": 61,
     "metadata": {},
     "output_type": "execute_result"
    }
   ],
   "source": [
    "0.52273e2"
   ]
  },
  {
   "cell_type": "code",
   "execution_count": 62,
   "id": "2d20725a-40be-42a4-9270-051caf8c09c7",
   "metadata": {},
   "outputs": [
    {
     "data": {
      "text/plain": [
       "0.0052273"
      ]
     },
     "execution_count": 62,
     "metadata": {},
     "output_type": "execute_result"
    }
   ],
   "source": [
    "0.52273e-2"
   ]
  },
  {
   "cell_type": "markdown",
   "id": "d9bc74b8-84d7-4d7a-b82d-e8a8cd9e4842",
   "metadata": {},
   "source": [
    "## 사칙연산"
   ]
  },
  {
   "cell_type": "code",
   "execution_count": 63,
   "id": "db33fddf-d230-4194-801c-e2fab5e039c5",
   "metadata": {},
   "outputs": [
    {
     "data": {
      "text/plain": [
       "2.0"
      ]
     },
     "execution_count": 63,
     "metadata": {},
     "output_type": "execute_result"
    }
   ],
   "source": [
    "6/3 #정수의 나눗셈이지만 실수로 표현"
   ]
  },
  {
   "cell_type": "code",
   "execution_count": 64,
   "id": "60a6779e-d8a9-49da-9851-4fd46538294e",
   "metadata": {},
   "outputs": [
    {
     "data": {
      "text/plain": [
       "9"
      ]
     },
     "execution_count": 64,
     "metadata": {},
     "output_type": "execute_result"
    }
   ],
   "source": [
    "6+3"
   ]
  },
  {
   "cell_type": "code",
   "execution_count": 65,
   "id": "fdbe3bbe-1db9-4a56-a410-aa86997acf8e",
   "metadata": {},
   "outputs": [
    {
     "data": {
      "text/plain": [
       "5.0"
      ]
     },
     "execution_count": 65,
     "metadata": {},
     "output_type": "execute_result"
    }
   ],
   "source": [
    "2.0+3"
   ]
  },
  {
   "cell_type": "code",
   "execution_count": 66,
   "id": "16c2d501-aed1-445a-8ea1-a89d724f548b",
   "metadata": {},
   "outputs": [
    {
     "data": {
      "text/plain": [
       "1"
      ]
     },
     "execution_count": 66,
     "metadata": {},
     "output_type": "execute_result"
    }
   ],
   "source": [
    "3//2 #나누기 연산자"
   ]
  },
  {
   "cell_type": "code",
   "execution_count": 67,
   "id": "4c4c8b88-8c8e-4607-8579-3a0eb8c1ca44",
   "metadata": {},
   "outputs": [
    {
     "data": {
      "text/plain": [
       "2"
      ]
     },
     "execution_count": 67,
     "metadata": {},
     "output_type": "execute_result"
    }
   ],
   "source": [
    "5 % 3 #나머지 연산자"
   ]
  },
  {
   "cell_type": "markdown",
   "id": "d12f9adb-aeea-4310-b92b-b86d61a2a125",
   "metadata": {},
   "source": [
    "## 제곱 연산자"
   ]
  },
  {
   "cell_type": "code",
   "execution_count": null,
   "id": "4bd901d0-509f-44ae-8187-9ea29baa4e16",
   "metadata": {},
   "outputs": [],
   "source": []
  },
  {
   "cell_type": "markdown",
   "id": "c1d6a942-52aa-4016-9010-2fe80b3cc9a5",
   "metadata": {},
   "source": [
    "## 연산자의 우선순위"
   ]
  },
  {
   "cell_type": "markdown",
   "id": "16d4056b-7d02-4ec9-8715-92dec40a7f21",
   "metadata": {
    "editable": true,
    "slideshow": {
     "slide_type": ""
    },
    "tags": []
   },
   "source": [
    "## 복합 대입 연산자"
   ]
  },
  {
   "cell_type": "code",
   "execution_count": 69,
   "id": "635c2a86-d659-4ee2-88ac-4db324b24091",
   "metadata": {},
   "outputs": [
    {
     "name": "stdout",
     "output_type": "stream",
     "text": [
      "110\n"
     ]
    }
   ],
   "source": [
    "nummber = 100\n",
    "nummber = nummber + 10\n",
    "print(nummber)"
   ]
  },
  {
   "cell_type": "code",
   "execution_count": 71,
   "id": "03cf1796-7465-48ee-9cce-2e3156f63952",
   "metadata": {},
   "outputs": [
    {
     "name": "stdout",
     "output_type": "stream",
     "text": [
      "110\n"
     ]
    }
   ],
   "source": [
    "nummber = 100\n",
    "nummber += 10\n",
    "print(nummber)"
   ]
  },
  {
   "cell_type": "code",
   "execution_count": 72,
   "id": "72f8174c-89b1-4be8-86d8-1b0f39a9baab",
   "metadata": {},
   "outputs": [
    {
     "name": "stdout",
     "output_type": "stream",
     "text": [
      "안녕i\n"
     ]
    }
   ],
   "source": [
    "sample_text = '안녕'\n",
    "sample_text += \"i\"\n",
    "print(sample_text)"
   ]
  },
  {
   "cell_type": "markdown",
   "id": "a66ef64f-ba1a-4b1e-a6e9-49dd303fa1db",
   "metadata": {
    "editable": true,
    "slideshow": {
     "slide_type": ""
    },
    "tags": []
   },
   "source": [
    "## input()"
   ]
  },
  {
   "cell_type": "code",
   "execution_count": 78,
   "id": "b90835fb-2b43-4eda-9ae5-77953848f935",
   "metadata": {},
   "outputs": [
    {
     "name": "stdin",
     "output_type": "stream",
     "text": [
      "숫자 입력 5\n",
      "숫자 입력 2\n"
     ]
    },
    {
     "name": "stdout",
     "output_type": "stream",
     "text": [
      "<class 'str'>\n",
      "<class 'str'>\n",
      "<class 'int'>\n",
      "7\n"
     ]
    }
   ],
   "source": [
    "num1 = input('숫자 입력')\n",
    "num2 = input('숫자 입력')\n",
    "print(type(num1))\n",
    "print(type(num2))\n",
    "\n",
    "result = int(num1) + int(num2)\n",
    "print(type(result))\n",
    "print(result)"
   ]
  },
  {
   "cell_type": "code",
   "execution_count": 80,
   "id": "881be892-f8bf-469f-bcea-cc8ac4e06f55",
   "metadata": {},
   "outputs": [
    {
     "name": "stdout",
     "output_type": "stream",
     "text": [
      "52\n",
      "52.273\n"
     ]
    }
   ],
   "source": [
    "num1 = \"52\"\n",
    "num2 = '52.273'\n",
    "\n",
    "print(int(num1))\n",
    "print(float(num2))"
   ]
  },
  {
   "cell_type": "code",
   "execution_count": 81,
   "id": "796b039d-806f-4b04-9949-d0da8871d046",
   "metadata": {},
   "outputs": [
    {
     "name": "stdout",
     "output_type": "stream",
     "text": [
      "52.0\n"
     ]
    }
   ],
   "source": [
    "print(float(num1))"
   ]
  },
  {
   "cell_type": "markdown",
   "id": "a6c22a42-82c9-4525-bd05-f7e9bf6d8125",
   "metadata": {},
   "source": [
    "- '52.273' 처럼 소숫점이 있는 문자열은 바로 정수 변환이 안됌 (주의)\n",
    "* 문자열 => 실수형==>정수형"
   ]
  },
  {
   "cell_type": "code",
   "execution_count": 82,
   "id": "645f1d2a-866c-459e-a4ac-d66ba1c4f276",
   "metadata": {},
   "outputs": [],
   "source": [
    "# p135 문자열 format "
   ]
  },
  {
   "cell_type": "code",
   "execution_count": 84,
   "id": "7cdeb266-9709-4834-8023-83c077099c6f",
   "metadata": {},
   "outputs": [],
   "source": [
    "# https://wikidocs.net/13#_15 \n",
    "#f 문자열 포멧팅 연습"
   ]
  },
  {
   "cell_type": "code",
   "execution_count": null,
   "id": "354ad007-1dcd-4c9a-b3e1-cd4d5dfed1a4",
   "metadata": {},
   "outputs": [],
   "source": [
    "# 문자열 포멧팅\n",
    "- 강사는 f- 문자열 좋라함\n",
    "- `f'문자열{표현식}문자열'`"
   ]
  },
  {
   "cell_type": "code",
   "execution_count": 86,
   "id": "2234ef84-fc3c-4701-b561-17cd8f4a7a68",
   "metadata": {},
   "outputs": [
    {
     "data": {
      "text/plain": [
       "'10'"
      ]
     },
     "execution_count": 86,
     "metadata": {},
     "output_type": "execute_result"
    }
   ],
   "source": [
    "# {} format() 함수 방식\n",
    "num1 = 10\n",
    "\"{}\".format(num1)"
   ]
  },
  {
   "cell_type": "code",
   "execution_count": 88,
   "id": "05f86adb-5424-48d7-b42e-918982ee00c3",
   "metadata": {},
   "outputs": [
    {
     "data": {
      "text/plain": [
       "'10'"
      ]
     },
     "execution_count": 88,
     "metadata": {},
     "output_type": "execute_result"
    }
   ],
   "source": [
    "# f - 문자열 방식\n",
    "num1 = 10\n",
    "f'{num1}'"
   ]
  },
  {
   "cell_type": "markdown",
   "id": "7c363435-906d-49d7-9c5a-d9931c416b2a",
   "metadata": {},
   "source": [
    "# 문자열의 내장 메서드\n",
    "- 공식문서 꼭 확인\n",
    "- 메서드는 엄청 많다 뭔지 모르겠으면 chat gpt한테 물어봐서 이해하기"
   ]
  },
  {
   "cell_type": "code",
   "execution_count": 89,
   "id": "d7f262cb-5d3d-48e6-bd68-e58834786250",
   "metadata": {},
   "outputs": [],
   "source": [
    "#p145"
   ]
  },
  {
   "cell_type": "markdown",
   "id": "d1d49d1d-9bcd-44b3-b0f0-f77631d4176d",
   "metadata": {},
   "source": [
    "## 8교시 해야 할 것\n",
    "- 문자열 내장 메서드 익히기\n",
    "- f 문자열 익히기"
   ]
  },
  {
   "cell_type": "code",
   "execution_count": 91,
   "id": "2e87aaa1-b678-4dd1-a911-0996a81a6ec9",
   "metadata": {},
   "outputs": [
    {
     "name": "stdout",
     "output_type": "stream",
     "text": [
      "True\n"
     ]
    }
   ],
   "source": [
    "print('안녕' in '안녕하세요')"
   ]
  },
  {
   "cell_type": "code",
   "execution_count": 101,
   "id": "f7b982d8-8068-4add-a466-0d0163b521c0",
   "metadata": {},
   "outputs": [
    {
     "name": "stdout",
     "output_type": "stream",
     "text": [
      "False\n"
     ]
    }
   ],
   "source": [
    "print('안녕' in '집에 가고싶어요')"
   ]
  },
  {
   "cell_type": "code",
   "execution_count": 102,
   "id": "9d94b3ca-48c9-4570-ae04-483bb6fb6a75",
   "metadata": {},
   "outputs": [
    {
     "data": {
      "text/plain": [
       "['10', '20', '30', '40', '50']"
      ]
     },
     "execution_count": 102,
     "metadata": {},
     "output_type": "execute_result"
    }
   ],
   "source": [
    "a = '10 20 30 40 50'.split(' ')\n",
    "a"
   ]
  },
  {
   "cell_type": "code",
   "execution_count": 105,
   "id": "ca0ceef7-c09f-434b-a339-339f729b5254",
   "metadata": {},
   "outputs": [
    {
     "name": "stdout",
     "output_type": "stream",
     "text": [
      "['sample', 'file,txt,py', 'test']\n"
     ]
    }
   ],
   "source": [
    "#붙어있는 단어 분리시키기\n",
    "filename = \"sample.file,txt,py.test\"\n",
    "part = filename.split('.')\n",
    "print(part) \n",
    "# ,로 묶인것들은 다시 스플릿 돌려서 하기\n"
   ]
  },
  {
   "cell_type": "markdown",
   "id": "a5bd198d-8311-49f2-812c-e1e1bbc8fb7f",
   "metadata": {},
   "source": [
    "# 리스트와 튜플\n",
    "- P192"
   ]
  },
  {
   "cell_type": "code",
   "execution_count": 135,
   "id": "77b5f7a8-e69d-4302-b5e6-8adb6e98b056",
   "metadata": {},
   "outputs": [],
   "source": [
    "a = list()\n",
    "b = []\n",
    "c = [1,2,3]\n",
    "d = ['a','b','c']\n",
    "e = [1,2,3, None, True]\n",
    "f = [1,2,3,[1,2,'Hello, Python!', None, True]]\n",
    "#리스트 안에 리스트가 있는 형태를 Nested List (중첩 리스트) 라고 한다ㄹ"
   ]
  },
  {
   "cell_type": "code",
   "execution_count": 130,
   "id": "dd5c28b5-5f39-471e-8692-9acd11b09a2c",
   "metadata": {},
   "outputs": [
    {
     "name": "stdout",
     "output_type": "stream",
     "text": [
      "[]\n"
     ]
    }
   ],
   "source": [
    "print(a)"
   ]
  },
  {
   "cell_type": "code",
   "execution_count": 131,
   "id": "a64b5caf-7d38-4714-bb3d-760eb8319ad1",
   "metadata": {},
   "outputs": [
    {
     "name": "stdout",
     "output_type": "stream",
     "text": [
      "[1, 2, 3, [1, 2, 'Hello, Python!', None, True]]\n"
     ]
    }
   ],
   "source": [
    "print(f)"
   ]
  },
  {
   "cell_type": "code",
   "execution_count": 132,
   "id": "61ff87a0-2e0a-478a-927f-b93880005fa2",
   "metadata": {},
   "outputs": [
    {
     "name": "stdout",
     "output_type": "stream",
     "text": [
      "[1, 2, 'Hello, Python!', None, True]\n"
     ]
    }
   ],
   "source": [
    "print(f[3])"
   ]
  },
  {
   "cell_type": "code",
   "execution_count": 133,
   "id": "daa68818-ccb7-4ec0-b02b-408fe2e3e355",
   "metadata": {},
   "outputs": [
    {
     "data": {
      "text/plain": [
       "'Python'"
      ]
     },
     "execution_count": 133,
     "metadata": {},
     "output_type": "execute_result"
    }
   ],
   "source": [
    "f_a = f[3]\n",
    "text = f_a[2]\n",
    "text[7:13]"
   ]
  },
  {
   "cell_type": "code",
   "execution_count": 145,
   "id": "d9033af6-eea4-4276-8f7c-ad9bfa2bd99b",
   "metadata": {},
   "outputs": [
    {
     "data": {
      "text/plain": [
       "'Python'"
      ]
     },
     "execution_count": 145,
     "metadata": {},
     "output_type": "execute_result"
    }
   ],
   "source": [
    "g = [1, 2, 3, 4, 5, 6, [1, 2, \"Hi,,,, !! Python !!! Hello, \", None, True]]\n",
    "g[6][2][10:16]\n"
   ]
  }
 ],
 "metadata": {
  "kernelspec": {
   "display_name": "Python 3 (ipykernel)",
   "language": "python",
   "name": "python3"
  },
  "language_info": {
   "codemirror_mode": {
    "name": "ipython",
    "version": 3
   },
   "file_extension": ".py",
   "mimetype": "text/x-python",
   "name": "python",
   "nbconvert_exporter": "python",
   "pygments_lexer": "ipython3",
   "version": "3.11.7"
  }
 },
 "nbformat": 4,
 "nbformat_minor": 5
}

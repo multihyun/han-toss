{
 "cells": [
  {
   "cell_type": "markdown",
   "id": "ee1f798c-896a-487c-9daf-c2fd31f87ac5",
   "metadata": {},
   "source": [
    "# 리스트와 튜플\n"
   ]
  },
  {
   "cell_type": "markdown",
   "id": "34c96cde-c914-455c-9862-1b6032c59fa8",
   "metadata": {},
   "source": [
    "## 리스트 인덱싱"
   ]
  },
  {
   "cell_type": "code",
   "execution_count": 19,
   "id": "7f02b6c1-d97c-487a-831d-fbb20385d756",
   "metadata": {
    "scrolled": true
   },
   "outputs": [
    {
     "ename": "IndexError",
     "evalue": "list index out of range",
     "output_type": "error",
     "traceback": [
      "\u001b[1;31m---------------------------------------------------------------------------\u001b[0m",
      "\u001b[1;31mIndexError\u001b[0m                                Traceback (most recent call last)",
      "Cell \u001b[1;32mIn[19], line 2\u001b[0m\n\u001b[0;32m      1\u001b[0m list_a \u001b[38;5;241m=\u001b[39m [\u001b[38;5;241m273\u001b[39m,\u001b[38;5;241m32\u001b[39m,\u001b[38;5;124m'\u001b[39m\u001b[38;5;124ma\u001b[39m\u001b[38;5;124m'\u001b[39m,\u001b[38;5;28;01mTrue\u001b[39;00m, [\u001b[38;5;241m1\u001b[39m,\u001b[38;5;241m2\u001b[39m,\u001b[38;5;241m3\u001b[39m]]\n\u001b[1;32m----> 2\u001b[0m \u001b[43mlist_a\u001b[49m\u001b[43m[\u001b[49m\u001b[38;5;241;43m5\u001b[39;49m\u001b[43m]\u001b[49m \u001b[38;5;66;03m#4까지만 있어서 범위에 벗어남-\u001b[39;00m\n",
      "\u001b[1;31mIndexError\u001b[0m: list index out of range"
     ]
    }
   ],
   "source": [
    "list_a = [273,32,'a',True, [1,2,3]]\n",
    "list_a[5] #4까지만 있어서 범위에 벗어남-"
   ]
  },
  {
   "cell_type": "markdown",
   "id": "6385e046-034f-4835-8a88-44a34a15392b",
   "metadata": {},
   "source": [
    "## 리스트의 연산"
   ]
  },
  {
   "cell_type": "markdown",
   "id": "76548585-f0d0-4d5d-81a6-a6d1d9690bd1",
   "metadata": {},
   "source": [
    "### 리스트의 덧셈"
   ]
  },
  {
   "cell_type": "code",
   "execution_count": null,
   "id": "09762b55-73a7-4b5f-8591-15c78f8e394f",
   "metadata": {},
   "outputs": [],
   "source": [
    "list_a = [1,2,3]\n",
    "list_b = [4,5,6]\n",
    "list_a + list_b #리스트끼리의 덧셈 가능"
   ]
  },
  {
   "cell_type": "code",
   "execution_count": null,
   "id": "e72833ee-3ca2-41b5-b6fa-fb19b88c050a",
   "metadata": {
    "scrolled": true
   },
   "outputs": [],
   "source": [
    "list_a + 4 #[4] 대괄호를 넣아야 함 숫자는 불가능 문자는 가능 "
   ]
  },
  {
   "cell_type": "markdown",
   "id": "5d2f8887-530a-4bbc-a45d-5e41d39e654b",
   "metadata": {},
   "source": [
    "### 리스트의 곱"
   ]
  },
  {
   "cell_type": "code",
   "execution_count": null,
   "id": "841a7fd1-5615-4d0c-8dab-9a9a3f35a1d2",
   "metadata": {},
   "outputs": [],
   "source": [
    "list_a * 3 #리스트의 곱 가능"
   ]
  },
  {
   "cell_type": "markdown",
   "id": "13bfe7ac-108f-4840-aa6d-089a17b07750",
   "metadata": {},
   "source": [
    "## 자료형"
   ]
  },
  {
   "cell_type": "markdown",
   "id": "4baac18e-4e4c-43e2-8b26-a4e814aca8f3",
   "metadata": {},
   "source": [
    "###  iterable과 scalar\n",
    "- 숫자는 scalar 자료형\n",
    "- 문자는 sequence 자료형\n",
    "- 리스트도 같은 sequence 자료형"
   ]
  },
  {
   "cell_type": "code",
   "execution_count": 24,
   "id": "5a019b3d-7d57-4e21-9775-a2ea3066ed7f",
   "metadata": {},
   "outputs": [
    {
     "data": {
      "text/plain": [
       "[273, 32, 410, True, [1, 2, 3]]"
      ]
     },
     "execution_count": 24,
     "metadata": {},
     "output_type": "execute_result"
    }
   ],
   "source": [
    "list_a = [273,32,'a',True, [1,2,3]]\n",
    "#list_a[인덱스 번호] = 새로운 값\n",
    "list_a[2] = 410\n",
    "list_a\n",
    "#결과를 보면 2번째 값이 변경됨을 확인 가능"
   ]
  },
  {
   "cell_type": "code",
   "execution_count": 25,
   "id": "5966dfc6-cfa7-4705-ae7f-9fcc1252f9df",
   "metadata": {},
   "outputs": [
    {
     "ename": "TypeError",
     "evalue": "'int' object is not iterable",
     "output_type": "error",
     "traceback": [
      "\u001b[1;31m---------------------------------------------------------------------------\u001b[0m",
      "\u001b[1;31mTypeError\u001b[0m                                 Traceback (most recent call last)",
      "Cell \u001b[1;32mIn[25], line 2\u001b[0m\n\u001b[0;32m      1\u001b[0m list_a \u001b[38;5;241m=\u001b[39m [\u001b[38;5;241m1\u001b[39m,\u001b[38;5;241m2\u001b[39m,\u001b[38;5;241m3\u001b[39m]\n\u001b[1;32m----> 2\u001b[0m \u001b[43mlist_a\u001b[49m\u001b[38;5;241;43m.\u001b[39;49m\u001b[43mextend\u001b[49m\u001b[43m(\u001b[49m\u001b[38;5;241;43m1\u001b[39;49m\u001b[43m)\u001b[49m \u001b[38;5;66;03m#itterable 이 아님 에러 발생\u001b[39;00m\n",
      "\u001b[1;31mTypeError\u001b[0m: 'int' object is not iterable"
     ]
    }
   ],
   "source": [
    "list_a = [1,2,3]\n",
    "list_a.extend(1) #itterable 이 아님 에러 발생"
   ]
  },
  {
   "cell_type": "code",
   "execution_count": null,
   "id": "a29a7ab6-79de-4ea7-a07a-5621ae58940a",
   "metadata": {},
   "outputs": [],
   "source": [
    "list_a = [1,2,3]\n",
    "list_a.extend('a') #문자형이라 가능함"
   ]
  },
  {
   "cell_type": "code",
   "execution_count": null,
   "id": "afcec692-7e64-4bd7-986c-c0b820d77cb8",
   "metadata": {},
   "outputs": [],
   "source": [
    "#길이 구하는 법\n",
    "len(list_a)"
   ]
  },
  {
   "cell_type": "markdown",
   "id": "7ce5ec3b-29f8-4c31-8d64-dd0c0bca17dd",
   "metadata": {},
   "source": [
    "## 리스트 추가"
   ]
  },
  {
   "cell_type": "markdown",
   "id": "77830714-1d8e-40d5-a654-84bcbf1488ed",
   "metadata": {},
   "source": [
    "###  append() 함수"
   ]
  },
  {
   "cell_type": "code",
   "execution_count": null,
   "id": "144a462e-6239-40f3-a138-70ac8e015ba6",
   "metadata": {},
   "outputs": [],
   "source": [
    "list_a = [1,2,3]\n",
    "list_a.append(4)\n",
    "list_a.append('A')\n",
    "list_a"
   ]
  },
  {
   "cell_type": "markdown",
   "id": "ffd047b0-55f7-46ef-9dc3-6b364bf38a75",
   "metadata": {},
   "source": [
    "### insert() 함수"
   ]
  },
  {
   "cell_type": "code",
   "execution_count": null,
   "id": "233b36da-9ca5-4f93-b534-a0cfe43ad23a",
   "metadata": {
    "scrolled": true
   },
   "outputs": [],
   "source": [
    "list_a.insert(1,100)\n",
    "list_a"
   ]
  },
  {
   "cell_type": "markdown",
   "id": "44b03e12-4805-4f83-9cd2-9f943769fbeb",
   "metadata": {},
   "source": [
    "#### 복합적인 리스트 추가"
   ]
  },
  {
   "cell_type": "code",
   "execution_count": null,
   "id": "526c3bb1-2a56-4110-94f5-2b4b33db4201",
   "metadata": {},
   "outputs": [],
   "source": [
    "list_a = [1,2,3]\n",
    "list_a.append(4)\n",
    "list_a.append('A')\n",
    "list_a.insert(3,100)\n",
    "list_a"
   ]
  },
  {
   "cell_type": "markdown",
   "id": "ed0c9873-f90e-4dfe-918f-fc8319f39035",
   "metadata": {},
   "source": [
    "### list의 어트리뷰트"
   ]
  },
  {
   "cell_type": "code",
   "execution_count": null,
   "id": "ffe80428-498c-4290-8e11-4ad9d1ba659d",
   "metadata": {
    "scrolled": true
   },
   "outputs": [],
   "source": [
    "list_a = [1,2,3]\n",
    "list_a.apend(4) #어트리뷰트가 있는지 공식문서에서 칮이보기"
   ]
  },
  {
   "cell_type": "code",
   "execution_count": null,
   "id": "f0d81d79-46ba-4b5f-97e5-56abe683912c",
   "metadata": {},
   "outputs": [],
   "source": [
    "pandas version 1.0.0\n",
    "#abc 메서드 사용이 됨\n",
    "\n",
    "pandas version 2.0.0\n",
    "AttributeError: 'pandas' object has no attribute 'abc'\n",
    "\n",
    "#pandas 2.0.0 버전의 문서를 봐야 함"
   ]
  },
  {
   "cell_type": "markdown",
   "id": "1106ce6b-e33b-4479-83dd-7070e59bb59a",
   "metadata": {},
   "source": [
    "## 리스트 제거하기"
   ]
  },
  {
   "cell_type": "markdown",
   "id": "17e0a371-ad03-4af8-88f0-dd5aae746d25",
   "metadata": {},
   "source": [
    "### 인덱스로 제거하기"
   ]
  },
  {
   "cell_type": "markdown",
   "id": "bce8eaa5-cf96-4d66-a911-aa0f0fedaf1f",
   "metadata": {},
   "source": [
    "#### del 키워드"
   ]
  },
  {
   "cell_type": "code",
   "execution_count": null,
   "id": "ab17f83a-a9fe-4576-aa22-b4252fe10c15",
   "metadata": {},
   "outputs": [],
   "source": [
    "list_a = ['a','b','c','d']\n",
    "del list_a[0]\n",
    "list_a\n",
    "# 0번째 문자 'a' 가 삭제 된 것을 알 수 있음\n"
   ]
  },
  {
   "cell_type": "code",
   "execution_count": null,
   "id": "290e319e-f388-43b6-8082-420f9d559a0c",
   "metadata": {},
   "outputs": [],
   "source": [
    "#del은 슬라이싱을 통해 제거가 가능하다\n",
    "list_a = ['a','b','c','d']\n",
    "del list_a[0:2]\n",
    "list_a"
   ]
  },
  {
   "cell_type": "markdown",
   "id": "3e5f74ef-fc0d-4543-9fc0-b5f6092d79cf",
   "metadata": {},
   "source": [
    "#### pop 키워드"
   ]
  },
  {
   "cell_type": "code",
   "execution_count": null,
   "id": "16c0f697-bf5b-47ca-90ed-655103c35ded",
   "metadata": {},
   "outputs": [],
   "source": [
    "list_a = ['a','b','c','d']\n",
    "list_a.pop()\n",
    "list_a\n",
    "# pop을 통해 리스트의 요소를을 삭제 가능\n",
    "#()안에 아무것도 넣자 않을경우 가장 마지막의 요소를 삭제함"
   ]
  },
  {
   "cell_type": "markdown",
   "id": "f6ef9f4e-7411-4b67-b853-de5e557fd583",
   "metadata": {},
   "source": [
    "### 값으로 제거하기 : remove\n",
    "- 인덱스 번호가 아닌 실제 값을 의미한다"
   ]
  },
  {
   "cell_type": "code",
   "execution_count": null,
   "id": "fbd3adfb-fa1e-4062-857d-903df31c3456",
   "metadata": {},
   "outputs": [],
   "source": [
    "list_a = ['a','b','c','d']\n",
    "list_a.remove(1)\n",
    "list_a\n",
    "#ValueError: list.remove(x): x not in list 에러 생성\n",
    "# 고로 list_a 에는 "
   ]
  },
  {
   "cell_type": "code",
   "execution_count": null,
   "id": "78effd5e-495f-4a34-a0a5-30c94191e5ea",
   "metadata": {},
   "outputs": [],
   "source": [
    "list_a = ['a','b','a','a','c','d']\n",
    "list_a.remove('a')\n",
    "list_a\n",
    "# 첫번째 해당 요소를 삭제해주는 역할\n"
   ]
  },
  {
   "cell_type": "markdown",
   "id": "6ee539cd-534f-4e45-967c-2fe72cc28143",
   "metadata": {},
   "source": [
    "## 정렬하기 : sort"
   ]
  },
  {
   "cell_type": "code",
   "execution_count": null,
   "id": "176c50cc-87e3-4f58-bd2f-1b9f56bd83c5",
   "metadata": {},
   "outputs": [],
   "source": [
    "list_a = [52,273,103,32]\n",
    "list_a.sort(reverse=True) #역정렬 참값\n",
    "list_a"
   ]
  },
  {
   "cell_type": "markdown",
   "id": "5f25da62-eed2-4096-8788-df9283ff3cf1",
   "metadata": {},
   "source": [
    "## 내부 요소 확인 : in/not in 연산자"
   ]
  },
  {
   "cell_type": "code",
   "execution_count": null,
   "id": "d13ed304-03f8-464b-9ece-61d9cf4a9da7",
   "metadata": {},
   "outputs": [],
   "source": [
    "'a' in 'abc'"
   ]
  },
  {
   "cell_type": "code",
   "execution_count": null,
   "id": "f1ea38b6-c594-4c6c-af46-15598541d9a6",
   "metadata": {},
   "outputs": [],
   "source": [
    "273 in [52, 273, 103, 32]"
   ]
  },
  {
   "cell_type": "markdown",
   "id": "47995c55-9346-426c-bcdf-fb33ef326e79",
   "metadata": {},
   "source": [
    "# 튜플 (P317)\n",
    "- 리스트와 비슷한 자료형\n",
    "- 인덱싱 슬라이싱 모두 가능"
   ]
  },
  {
   "cell_type": "markdown",
   "id": "79c02689-33cf-41be-a17a-e2d18f1e0cd6",
   "metadata": {},
   "source": [
    "## 튜플의 생성"
   ]
  },
  {
   "cell_type": "code",
   "execution_count": null,
   "id": "873c4492-57f0-4cfc-838d-36c607cd09ff",
   "metadata": {},
   "outputs": [],
   "source": [
    "tuple_test = (10, 20, 30, 40, 50, 60)\n",
    "tuple_test"
   ]
  },
  {
   "cell_type": "code",
   "execution_count": null,
   "id": "4d92cdf1-0083-4ffb-9908-3e8df41a722e",
   "metadata": {},
   "outputs": [],
   "source": [
    "tuple_test[0]"
   ]
  },
  {
   "cell_type": "code",
   "execution_count": null,
   "id": "aa121b61-2d9d-4525-958d-697c477f5fe2",
   "metadata": {},
   "outputs": [],
   "source": [
    "tuple_test[1:3]"
   ]
  },
  {
   "cell_type": "markdown",
   "id": "8a1df4b3-abf6-4993-8a8d-56616d381944",
   "metadata": {},
   "source": [
    "## 튜플의 재할당"
   ]
  },
  {
   "cell_type": "code",
   "execution_count": null,
   "id": "b82057eb-5435-4c3e-ae42-f8ef96f0b6ee",
   "metadata": {},
   "outputs": [],
   "source": [
    "list_a[0] = 100\n",
    "list_a"
   ]
  },
  {
   "cell_type": "code",
   "execution_count": null,
   "id": "b8b6975b-87da-4b53-bdba-e7a8d24005dc",
   "metadata": {},
   "outputs": [],
   "source": [
    "tuple_test[0] = 100\n",
    "# TypeError: 'tuple' object does not support item assignment\n",
    "# 튜플은 재할당 불가능"
   ]
  },
  {
   "cell_type": "markdown",
   "id": "882cf946-d836-41ea-b753-b699a168bfa6",
   "metadata": {},
   "source": [
    "## 튜플의 삭제"
   ]
  },
  {
   "cell_type": "code",
   "execution_count": null,
   "id": "cc3eb915-37fb-4cf3-8b69-61cc8f54155f",
   "metadata": {},
   "outputs": [],
   "source": [
    "del list_a[0]\n",
    "list_a"
   ]
  },
  {
   "cell_type": "code",
   "execution_count": null,
   "id": "cfedef1b-8252-4c56-a9fb-29f2383f7366",
   "metadata": {},
   "outputs": [],
   "source": [
    "del tuple_test[0]\n",
    "# TypeError: 'tuple' object doesn't support item deletion\n",
    "#튜플은 삭제 불가능"
   ]
  },
  {
   "cell_type": "markdown",
   "id": "f4797f7a-5b18-4cdc-af54-9d1c49082987",
   "metadata": {},
   "source": [
    "# 딕셔너리 \n",
    "- Web 관련 자료형 중에서 JSON 형태와 유사\n",
    "- pandas 데이터프레임을 만들떄도 자주 사용\n",
    "- 사전적 구성 연상\n",
    "    + 키워드 입력 ==> 다양한 값(의미)\n",
    "    + Love, 동사, 명사 등등등\n",
    "    + "
   ]
  },
  {
   "cell_type": "code",
   "execution_count": 22,
   "id": "a68be834-67e6-434f-b6e7-ce0807cebc6f",
   "metadata": {},
   "outputs": [
    {
     "data": {
      "text/plain": [
       "{'name': '어벤져스 엔드게임',\n",
       " 'type': '히어로 영화',\n",
       " 'director': ['안소니 루소', '조 루소'],\n",
       " 'year': 2019}"
      ]
     },
     "execution_count": 22,
     "metadata": {},
     "output_type": "execute_result"
    }
   ],
   "source": [
    "# 딕셔너리 생성\n",
    "\n",
    "dict_a = {\n",
    "    'name' : '어벤져스 엔드게임',\n",
    "    'type' : '히어로 영화',\n",
    "    'director' : ['안소니 루소', '조 루소'],\n",
    "    'year' : 2019\n",
    "}\n",
    "dict_a\n",
    "\n",
    "#왼쪽은 키 오른쪽은 벨류\n"
   ]
  },
  {
   "cell_type": "code",
   "execution_count": null,
   "id": "abde4058-b9c1-4a97-8b76-38a0d6fb9fd6",
   "metadata": {},
   "outputs": [],
   "source": [
    "# (주의) 각 출력값마다 문자열이 다름 \n",
    "리스트 ==> str "
   ]
  },
  {
   "cell_type": "markdown",
   "id": "fd586336-970f-44bc-adcb-afa68004fe1e",
   "metadata": {},
   "source": [
    "## 딕셔너리의 검색"
   ]
  },
  {
   "cell_type": "code",
   "execution_count": null,
   "id": "ebc53ad9-cc95-439c-bdc6-5f22b61ccd9a",
   "metadata": {},
   "outputs": [],
   "source": [
    "dict_a['director']"
   ]
  },
  {
   "cell_type": "code",
   "execution_count": null,
   "id": "ad9dc6ae-6d86-4447-a0c7-69ba241b35df",
   "metadata": {},
   "outputs": [],
   "source": [
    "type(dict_a['director'])"
   ]
  },
  {
   "cell_type": "code",
   "execution_count": 23,
   "id": "ad45eb8e-7bf6-4c10-bde2-299d4c80913a",
   "metadata": {},
   "outputs": [
    {
     "data": {
      "text/plain": [
       "'안소니 루소'"
      ]
     },
     "execution_count": 23,
     "metadata": {},
     "output_type": "execute_result"
    }
   ],
   "source": [
    "dict_a['director'][0]"
   ]
  },
  {
   "cell_type": "code",
   "execution_count": null,
   "id": "97215062-bdda-48da-b74e-eea28359e080",
   "metadata": {},
   "outputs": [],
   "source": [
    "type(dict_a['director'][0])"
   ]
  },
  {
   "cell_type": "code",
   "execution_count": null,
   "id": "d07b8c8a-0d13-4cba-8e7f-ffbd5ada4ec4",
   "metadata": {},
   "outputs": [],
   "source": [
    "dict_a['director'][0][0:3]"
   ]
  },
  {
   "cell_type": "code",
   "execution_count": null,
   "id": "b39f094f-0191-4afe-a976-b8b57bcc1b8c",
   "metadata": {},
   "outputs": [],
   "source": [
    "type(dict_a['director'][0][0:3])"
   ]
  },
  {
   "cell_type": "markdown",
   "id": "1df459d0-e7f3-4fa0-ba14-67a11f55492e",
   "metadata": {},
   "source": [
    "## 딕셔너리 키"
   ]
  },
  {
   "cell_type": "code",
   "execution_count": null,
   "id": "2b2f0158-bfd4-4f60-9a21-413f90829cdf",
   "metadata": {},
   "outputs": [],
   "source": [
    "#key 설정시 무조건 따옴표 사용\n",
    "dict_key = {\n",
    "    'name' :'7D 건조 망고'\n",
    "}\n",
    "dict_key"
   ]
  },
  {
   "cell_type": "code",
   "execution_count": null,
   "id": "708322d8-dd94-4b1e-83c1-c5f5b72d5e86",
   "metadata": {},
   "outputs": [],
   "source": [
    "dict_key['새로운키'] = '새로운 값'\n",
    "dict_key['price'] = [1,2,3,4,5]\n",
    "dict_key['새로운딕셔너리'] = {'a':1, 'b':[1,2,3]}\n",
    "dict_key"
   ]
  },
  {
   "cell_type": "code",
   "execution_count": null,
   "id": "f3a05608-2010-444a-9a6a-e5cf343e05f8",
   "metadata": {},
   "outputs": [],
   "source": [
    "dict_me = {\n",
    "    'name' : '박동현',\n",
    "    'age' : 26\n",
    "}\n",
    "dict_me"
   ]
  },
  {
   "cell_type": "code",
   "execution_count": null,
   "id": "5d234c5b-56da-49a5-afd9-9ae28410c93b",
   "metadata": {},
   "outputs": [],
   "source": [
    "dict_me['home'] = 'busan'\n",
    "dict_me"
   ]
  },
  {
   "cell_type": "markdown",
   "id": "b77d8602-8f00-4fed-9fe3-b2fdf39478ec",
   "metadata": {},
   "source": [
    "## 딕셔너리의 수정"
   ]
  },
  {
   "cell_type": "code",
   "execution_count": null,
   "id": "265d2bb2-dce3-463d-b561-e232bf17b164",
   "metadata": {},
   "outputs": [],
   "source": [
    "del dict_key['새로운딕셔너리']\n",
    "dict_key"
   ]
  },
  {
   "cell_type": "code",
   "execution_count": null,
   "id": "00ba353f-2543-44ac-bcd0-ad150cdf9d60",
   "metadata": {},
   "outputs": [],
   "source": [
    "dict_key.items()"
   ]
  },
  {
   "cell_type": "code",
   "execution_count": null,
   "id": "a4d9bef9-b42a-45a3-ba2d-2d1cfc21cb66",
   "metadata": {},
   "outputs": [],
   "source": [
    "temp = dict_key.keys()\n",
    "temp.append('가격')\n",
    "#AttributeError: 'dict_keys' object has no attribute 'append'\n",
    "#리스트처럼 보이지만 이스트가 아님\n"
   ]
  },
  {
   "cell_type": "code",
   "execution_count": null,
   "id": "36bbe7a0-fcf0-47d3-89f9-01bcd497784f",
   "metadata": {},
   "outputs": [],
   "source": [
    "temp = list(dict_key.keys()) #리스트형으로 변환 시켜야 함\n",
    "temp"
   ]
  },
  {
   "cell_type": "markdown",
   "id": "39927326-4896-48c1-8171-6947fc646082",
   "metadata": {},
   "source": [
    "# 조건문 if \n",
    "- 00 조건을 만족한다 ==> True\n",
    "    + 그러면, 우리가 옷을  사야지\n",
    "- 00 조건을 만족하지 못함 ==> False\n",
    "    + 남의 옷을 얻어 입아야지\n",
    " - if - else\n",
    " -  "
   ]
  },
  {
   "cell_type": "code",
   "execution_count": null,
   "id": "97c39186-7655-4a45-a79b-d3fc35a04e7f",
   "metadata": {},
   "outputs": [],
   "source": [
    "a = 1\n",
    "if a > 1 : # <--- 해당되는 조건식을 만드는 것이 핵심\n",
    "    print('1보다 큼')\n",
    "else:\n",
    "    print('1보다 작음')"
   ]
  },
  {
   "cell_type": "code",
   "execution_count": null,
   "id": "8dadda0c-862f-4707-9771-333c4ae4173f",
   "metadata": {},
   "outputs": [],
   "source": [
    "#p163\n",
    "if True:\n",
    "    print('True입니다.')"
   ]
  },
  {
   "cell_type": "code",
   "execution_count": null,
   "id": "d9cd014f-8cfa-4ab6-afec-f2ddd6a4b5ca",
   "metadata": {},
   "outputs": [],
   "source": [
    "if False:\n",
    "    print('True 입니다.')"
   ]
  },
  {
   "cell_type": "code",
   "execution_count": null,
   "id": "e2f747ea-38b5-46ff-bc6f-f6504e92c627",
   "metadata": {},
   "outputs": [],
   "source": [
    "number = input('정수 입력 :')\n",
    "number = int(number)\n",
    "\n",
    "print(number)"
   ]
  },
  {
   "cell_type": "code",
   "execution_count": null,
   "id": "cb08e3b0-a0b9-443a-9da2-be529f22c97e",
   "metadata": {},
   "outputs": [],
   "source": [
    "number = input('정수 입력 :')\n",
    "number = int(number)\n",
    "print(number)\n",
    " # 양수 조건\n",
    "if number > 0:\n",
    "    print('양수')\n",
    "\n",
    "음수 조건\n",
    "if number < 0:\n",
    "    print('음수')"
   ]
  },
  {
   "cell_type": "markdown",
   "id": "9f21d34d-2183-4b61-8ef7-85f6c69c36f0",
   "metadata": {},
   "source": [
    "## if 조건문 예제\n",
    "- 돈이 00 있음\n",
    "- 파이브 가이즈 햄버거 가격이 35,000원\n",
    "- 햄버거를 먹을 수 있는 상황\n",
    "- "
   ]
  },
  {
   "cell_type": "code",
   "execution_count": null,
   "id": "cf6f6b39-7755-4328-ab73-c328c67b90fc",
   "metadata": {},
   "outputs": [],
   "source": [
    "money = int(input('가진 돈 입력'))\n",
    "PRICE = 35000\n",
    "# 상수로 처리하는 것은 대문자로 표기\n",
    "if money > PRICE :\n",
    "    print('햄버거 ㄱㄱ')\n",
    "else:\n",
    "    print('돈이 없으니 국밥 ㄱㄱ')\n"
   ]
  },
  {
   "cell_type": "markdown",
   "id": "89e69144-e756-432b-9c93-42ad0df14af4",
   "metadata": {},
   "source": [
    "## elif 구문\n"
   ]
  },
  {
   "cell_type": "code",
   "execution_count": null,
   "id": "cf32ce61-1154-4f02-a40b-cc1948abf89d",
   "metadata": {},
   "outputs": [],
   "source": [
    "import datetime\n",
    "\n",
    "#현재 날짜와 시간 구하기\n",
    "# 월 추출해서 현재 계절 확인\n",
    "\n",
    "now = datetime.datetime.now()\n",
    "month = now.month\n",
    "\n",
    "print(type(month),month)\n",
    "\n",
    "if 3 <= month <= 5 :\n",
    "    print('봄')\n",
    "elif 6 <= month <= 8:\n",
    "    print('여름')\n",
    "elif 9 <= month <= 11 :\n",
    "    print('가을')\n",
    "else:\n",
    "    print('겨울')"
   ]
  },
  {
   "cell_type": "code",
   "execution_count": null,
   "id": "b5c9789d-694f-4e5f-9eed-64ec27239c4e",
   "metadata": {},
   "outputs": [],
   "source": [
    "# 여기서 1부터 12까지가 아닌 숫자를 입력하더라도 겨울이 출력되기때문에 설계를 다시 해야 함"
   ]
  },
  {
   "cell_type": "code",
   "execution_count": null,
   "id": "05865f3a-5cc2-42a8-a5c7-4d3c1c62c28f",
   "metadata": {},
   "outputs": [],
   "source": [
    "num = int(input('숫자를 입력하세요'))\n",
    "\n",
    "if num > 0:\n",
    "    #코드 디데일하게 작성\n",
    "    num2 = num\n",
    "    pass\n",
    "else:\n",
    "    pass\n",
    "\n",
    "print('완료')"
   ]
  },
  {
   "cell_type": "code",
   "execution_count": null,
   "id": "1e6eb596-09cc-4d55-be75-c0c54dc95412",
   "metadata": {},
   "outputs": [],
   "source": [
    "num = int(input('숫자를 입력하세요'))\n",
    "\n",
    "if num > 0:\n",
    "    #코드 디데일하게 작성\n",
    "    num2 = num\n",
    "    raise NotImplementedError\n",
    "    #강제로 에러 방출\n",
    "else:\n",
    "    pass\n",
    "\n",
    "print('완료')"
   ]
  },
  {
   "cell_type": "markdown",
   "id": "328ff448-7cab-4450-9bbc-059316ce6260",
   "metadata": {},
   "source": [
    "# 날짜 시간 활용하기\n",
    "- datetime (파이썬 기본 라이브러리)\n",
    "    + 공식문서 : https://docs.python.org/3/library/datetime.html\n",
    "- pandas to_datetime  https://pandas.pydata.org/docs/reference/api/pandas.to_datetime.html"
   ]
  },
  {
   "cell_type": "code",
   "execution_count": null,
   "id": "af10e9c5-b02a-49c2-848c-9355a7fc3b86",
   "metadata": {},
   "outputs": [],
   "source": [
    "import datetime\n",
    "\n",
    "#현재 날짜/시간 구하기\n",
    "now = datetime.datetime.now()\n",
    "now"
   ]
  },
  {
   "cell_type": "code",
   "execution_count": null,
   "id": "59a5a2ec-797b-4cd9-8f3e-e63df4d3f32b",
   "metadata": {},
   "outputs": [],
   "source": [
    "print(now.month, \"월\")"
   ]
  },
  {
   "cell_type": "code",
   "execution_count": null,
   "id": "b4e6e919-89cf-44d1-821b-24bdf0437d6a",
   "metadata": {},
   "outputs": [],
   "source": [
    "print(f'{now.year}년 {now.month}월 {now.day}일')"
   ]
  },
  {
   "cell_type": "markdown",
   "id": "bf9ef5e2-b87f-41f5-a819-2f616184f14b",
   "metadata": {},
   "source": [
    "# 반목문"
   ]
  },
  {
   "cell_type": "code",
   "execution_count": null,
   "id": "213c5848-e135-4c26-b8f1-f487759c493b",
   "metadata": {},
   "outputs": [],
   "source": [
    "# 어느시점에 사용하는지 알아야 함\n",
    "# 내가 무언가를 3번 이상 반복하고 있을떄 반복문을 사용해야 함"
   ]
  },
  {
   "cell_type": "code",
   "execution_count": null,
   "id": "c724e76e-6d3c-42b3-96f1-949aaf76a6cf",
   "metadata": {},
   "outputs": [],
   "source": [
    "# 신입 vs 주니어 vs 시니어\n",
    "# print('출력')\n",
    "#print('출력')\n",
    "#print('출력')\n",
    "# for "
   ]
  },
  {
   "cell_type": "markdown",
   "id": "3ce7372e-2ddd-4e29-9507-87f910071df2",
   "metadata": {},
   "source": [
    "## for 반복문\n",
    "- p207\n",
    "- 몇번을 반복해야 하는지 사용자가 지정"
   ]
  },
  {
   "cell_type": "code",
   "execution_count": null,
   "id": "81817425-2028-49f5-a4d2-021f49898b4a",
   "metadata": {},
   "outputs": [],
   "source": [
    "for i in range(3): #처음에 범위 지정할 때, 3번정도 확인 후 확장\n",
    "    print('출력')"
   ]
  },
  {
   "cell_type": "code",
   "execution_count": null,
   "id": "42505955-9811-4c3d-8926-039e66819a65",
   "metadata": {},
   "outputs": [],
   "source": [
    "#p209\n",
    "array = [273, 32, 103, 57, 52]\n",
    "\n",
    "for element in array:\n",
    "    print(element)"
   ]
  },
  {
   "cell_type": "code",
   "execution_count": null,
   "id": "8977718c-f39c-4beb-8f49-99f9ec96606a",
   "metadata": {},
   "outputs": [],
   "source": [
    "text = 'abc'\n",
    "for element in text:\n",
    "    print(element)\n"
   ]
  },
  {
   "cell_type": "code",
   "execution_count": null,
   "id": "e370f79d-bb9b-4e71-a14e-61699f3b7ca0",
   "metadata": {},
   "outputs": [],
   "source": [
    "number = 123\n",
    "for element in number:\n",
    "    print(element)"
   ]
  },
  {
   "cell_type": "code",
   "execution_count": null,
   "id": "470859a7-53a9-4ad6-af40-c118a4b0238e",
   "metadata": {
    "scrolled": true
   },
   "outputs": [],
   "source": [
    "tuple_a = [1,2,3]\n",
    "\n",
    "for element in tuple_a:\n",
    "    print(element)"
   ]
  },
  {
   "cell_type": "markdown",
   "id": "73d94c92-ac73-4d2d-9e50-a47aa69e6fdf",
   "metadata": {},
   "source": [
    "### for 반복문 예제\n"
   ]
  },
  {
   "cell_type": "markdown",
   "id": "2b503dc9-0820-4349-a948-940be0fe837e",
   "metadata": {},
   "source": [
    "#### 자료형 판정 반복문제\n",
    "- 반복문을 쓰고 싶음. 근데 iterable 가능하다고 함.\n",
    "- 문제 : 자료형이 iteralbe인지 아닌지 알고 싶음. 그래서 그래서 iteralbe이면 반복문 수행 가능하도록 if 조건문 만들기"
   ]
  },
  {
   "cell_type": "code",
   "execution_count": null,
   "id": "a7787403-3434-4601-a79d-dfbf148495e5",
   "metadata": {},
   "outputs": [],
   "source": [
    "#p210\n",
    "list_of_list = [[1, 2, 3], [4, 5, 6, 7], [8, 9]]\n",
    "list_of_list\n",
    "for items in list_of_list:\n",
    "    print(items)\n",
    "    for items in items:\n",
    "        print(items)"
   ]
  },
  {
   "cell_type": "markdown",
   "id": "2d23842b-9482-4cce-8eac-bfbddbb131d9",
   "metadata": {},
   "source": [
    "#### 구구단 만들기"
   ]
  },
  {
   "cell_type": "code",
   "execution_count": null,
   "id": "72558440-e871-480e-9b25-cf9f852fb0ac",
   "metadata": {},
   "outputs": [],
   "source": [
    "num1 = [2, 3, 4, 5, 6, 7, 8, 9]\n",
    "num2 = [1, 2, 3, 4, 5, 6, 7, 8, 9]\n",
    "\n",
    "for a in num1:\n",
    "    print(a,'단')\n",
    "    for b in num2:\n",
    "        print(a,'X',b, '=', a*b)"
   ]
  },
  {
   "cell_type": "code",
   "execution_count": null,
   "id": "6047f1e4-aea7-4b5f-8b72-f7accce1ea97",
   "metadata": {},
   "outputs": [],
   "source": [
    "for x in range(2,10): \n",
    "    for y in range(1,10):\n",
    "        print(x, '*', y, '=', x * y)"
   ]
  },
  {
   "cell_type": "markdown",
   "id": "9c99a759-3cdf-4e53-a448-d2fcbe1ecfd7",
   "metadata": {},
   "source": [
    "### 리스트 컴프리헨션\n",
    "- pythonic한 코드\n",
    "- 반복문을 한줄로처리\n",
    "- 결괏값은 리스트로 변환"
   ]
  },
  {
   "cell_type": "code",
   "execution_count": null,
   "id": "b4597c43-a072-4d25-b0f5-f68a780bc043",
   "metadata": {},
   "outputs": [],
   "source": [
    "a = [1, 2, 3, 4]\n",
    "result = []\n",
    "for num in a:\n",
    "    print(num*3)\n",
    "    #결과를 리스트로 출력\n",
    "\n",
    "#리스트를 곱하면 반복해서 출력할뿐임\n",
    "for num in a:\n",
    "    result.append(num*3)\n",
    "\n",
    "result"
   ]
  },
  {
   "cell_type": "code",
   "execution_count": null,
   "id": "efdbf5d5-63e7-4dde-8695-b34193aae110",
   "metadata": {},
   "outputs": [],
   "source": [
    "b = [1, 2, 3, 4]\n",
    "result2 = [num *3 for num in b]\n",
    "result2"
   ]
  },
  {
   "cell_type": "code",
   "execution_count": null,
   "id": "2ff92320-ff88-47f0-a20b-c0dcd53d8f66",
   "metadata": {},
   "outputs": [],
   "source": [
    "#두가지 리스트를 동시에 반복하기 (zip)\n",
    "num1 = [1, 2, 3, 4]\n",
    "num2 = [10, 20, 30, 40]\n",
    "result = [] #빈 리스트 생성\n",
    "for n1, n2 in zip (num1, num2): #zip을 통해 같이 반복문 돌림 \n",
    "    print(n1, n2, n1 * n2)\n",
    "    result.append(n1 * n2)\n",
    "\n",
    "result"
   ]
  },
  {
   "cell_type": "code",
   "execution_count": null,
   "id": "38e620b2-3053-47a0-ae56-6d4bcc91dc78",
   "metadata": {},
   "outputs": [],
   "source": [
    "result3 = [n1 *n2 for n1, n2 in zip(num1,num2)]\n",
    "result3"
   ]
  },
  {
   "cell_type": "markdown",
   "id": "b56fde7e-59c3-407e-a0eb-30481c183986",
   "metadata": {},
   "source": [
    "## while 반복문\n",
    "- 조건식이 참이면 계속 수행함\n",
    "- 예) 게임 (자동사냥)\n",
    "  + 자동사냥 버튼 ==> True"
   ]
  },
  {
   "cell_type": "code",
   "execution_count": null,
   "id": "e7922576-0b11-40b7-86cb-96875ff09f5e",
   "metadata": {},
   "outputs": [],
   "source": []
  }
 ],
 "metadata": {
  "kernelspec": {
   "display_name": "Python 3 (ipykernel)",
   "language": "python",
   "name": "python3"
  },
  "language_info": {
   "codemirror_mode": {
    "name": "ipython",
    "version": 3
   },
   "file_extension": ".py",
   "mimetype": "text/x-python",
   "name": "python",
   "nbconvert_exporter": "python",
   "pygments_lexer": "ipython3",
   "version": "3.11.7"
  }
 },
 "nbformat": 4,
 "nbformat_minor": 5
}
